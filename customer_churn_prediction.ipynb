{
 "cells": [
  {
   "cell_type": "markdown",
   "metadata": {},
   "source": [
    "<center><h1 style=\"text-decoration: underline;\">Vodafone Customer Churn Prediction</h1></center>\n",
    "\n",
    "##### <h2 style=\"text-decoration: underline;\">Project Scenario</h2>\n",
    "\n",
    "Every company wants to increase its profit or revenue margin and customer retention is one key area industry players focus their resources. In today's world of machine learning, most companies build classification models to perform churn analysis on their customers. \n",
    "\n",
    "Classification in machine learning and statistics is a supervised learning approach in which the computer program learns from the data given to it and makes new observations or classifications. The main goal is to identify which class/category the new data will fall into. \n",
    "\n",
    "##### <h3 style=\"text-decoration: underline;\">Business Understanding</h3>\n",
    "\n",
    "***Objective:***\n",
    "\n",
    "The primary objective of this project is to develop a classification model for churn analysis to aid in customer retention efforts. Churn analysis focuses on predicting whether customers are likely to leave or continue their relationship with the company. By identifying customers at risk of churning, the company can take proactive measures to retain them, thus increasing revenue and profit margins.\n",
    "\n",
    "***Background:***\n",
    "\n",
    "In today's competitive business landscape, customer retention is paramount for sustaining profitability and growth. Retaining existing customers is often more cost-effective than acquiring new ones. Churn analysis leverages machine learning and statistical techniques to predict customer behavior and identify potential churners before they defect to competitors.\n",
    "\n",
    "***Data Description:***\n",
    "\n",
    "The project will utilize historical data encompassing various customer attributes, transactional details, and behavioral patterns. These may include demographic information, purchase history, engagement metrics, customer service interactions, and any other relevant data points. The dataset will be sufficiently large and diverse to capture the complexities of customer behavior across different segments.\n",
    "\n",
    "***Methodology:***\n",
    "\n",
    "The project will employ a supervised learning approach, specifically classification algorithms, to train predictive models. These models will learn from past instances of churn and non-churn events to classify new customers accordingly. Various classification algorithms such as logistic regression, decision trees, random forests, and gradient boosting will be explored to identify the most effective model for the given dataset.\n",
    "\n",
    "***Key Deliverables:***\n",
    "\n",
    "1. Churn Prediction Model: A robust machine learning model capable of accurately predicting customer churn based on input features.\n",
    "2. Feature Importance Analysis: Identification of the most influential factors driving churn, providing actionable insights for targeted retention strategies.\n",
    "3. Model Evaluation: Rigorous evaluation of model performance using appropriate metrics such as accuracy, precision, recall, and F1-score. The model will be validated using techniques like cross-validation and holdout validation to ensure generalizability.\n",
    "4. Deployment Strategy: Recommendations for integrating the churn prediction model into the company's existing systems or workflows for real-time monitoring and intervention.\n",
    "\n",
    "***Expected Outcomes:***\n",
    "\n",
    "By leveraging the insights gained from the churn analysis model, the company expects to:\n",
    "\n",
    "- Proactively identify customers at risk of churn.\n",
    "- Tailor retention strategies and incentives to address specific customer needs and pain points.\n",
    "- Optimize resource allocation by focusing retention efforts on high-value customers with the highest churn propensity.\n",
    "- Ultimately, improve overall customer retention rates, thereby enhancing long-term profitability and competitiveness in the market.\n",
    "\n",
    "***Conclusion:***\n",
    "\n",
    "Churn analysis represents a strategic initiative aimed at leveraging data-driven insights to mitigate customer attrition and foster long-term loyalty. By harnessing the power of classification models, the company endeavors to enhance customer retention efforts, drive sustainable revenue growth, and maintain a competitive edge in the dynamic marketplace.\n",
    "\n",
    "\n",
    "##### <h3 style=\"text-decoration: underline;\">Hypothesis Testing</h3>\n",
    "##### Hypothesis 1\n",
    "\n",
    "***Null Hypothesis(Ho)***: Customers with longer tenure (number of months stayed with the company) are more likely to churn compared to new customers.\n",
    "\n",
    "***Alternative Hypothesis(Ha)***: Customers with longer tenure (number of months stayed with the company) are less likely to churn compared to new customers.\n",
    "\n",
    "##### Hypothesis 2\n",
    "\n",
    "Null Hypothesis (Ho): Customers with higher monthly charges (MonthlyCharges) are more likely to churn due to cost considerations.\n",
    "\n",
    "Alternative Hypothesis (Ha): Customers with higher monthly charges (MonthlyCharges) are less likely to churn due to cost considerations.\n",
    "\n",
    "##### <h4 style=\"text-decoration: underline;\">Business Questions</h4>\n",
    "1. What is the average tenure of customers who churned compared to those who stayed?\n",
    "2. Do customers with partners or dependents have a lower churn rate?\n",
    "3. How does the presence of multiple lines affect customer churn?\n",
    "4. Is there a correlation between the contract term (Contract) and customer churn?\n",
    "5. What are the common payment methods (Payment Method) among customers who churned?\n",
    "6. How does the availability of tech-related services (e.g., OnlineSecurity, TechSupport) impact churn rates?\n",
    "7. What percentage of customers who churned had streaming services (StreamingTV, StreamingMovies)?\n",
    "8. Is there a difference in churn rates between senior citizens and non-senior citizens?\n",
    "9. How does the total amount charged to customers (TotalCharges) correlate with churn behavior?\n",
    "10. How does the contract affect churn rates?\n"
   ]
  },
  {
   "cell_type": "markdown",
   "metadata": {},
   "source": [
    "#### ***Import necessary libraries***"
   ]
  },
  {
   "cell_type": "code",
   "execution_count": 54,
   "metadata": {},
   "outputs": [
    {
     "name": "stdout",
     "output_type": "stream",
     "text": [
      "🛬 Imported all packages. Warnings hidden. 👻\n"
     ]
    }
   ],
   "source": [
    "from dotenv import dotenv_values \n",
    "import pyodbc \n",
    "import numpy as np\n",
    "import pandas as pd                          \n",
    "import seaborn as sns\n",
    "import matplotlib.pyplot as plt\n",
    "from sklearn.preprocessing import LabelEncoder\n",
    "from sklearn.preprocessing import OneHotEncoder\n",
    "import plotly.express as px\n",
    "from scipy.stats import mannwhitneyu \n",
    "from scipy.stats import chi2_contingency\n",
    "from scipy.stats import stats\n",
    "# Machine Learning Packages:\n",
    "from sklearn.pipeline import Pipeline\n",
    "from sklearn.impute import SimpleImputer\n",
    "from sklearn.neighbors import KNeighborsClassifier\n",
    "from sklearn.tree import DecisionTreeClassifier\n",
    "from sklearn.linear_model import LogisticRegression\n",
    "from sklearn.ensemble import RandomForestClassifier\n",
    "from xgboost import XGBClassifier\n",
    "from sklearn.preprocessing import OneHotEncoder, StandardScaler\n",
    "from sklearn.compose import ColumnTransformer\n",
    "from sklearn.preprocessing import LabelEncoder\n",
    "from sklearn.model_selection import train_test_split, GridSearchCV, StratifiedKFold\n",
    "from sklearn.metrics import classification_report, accuracy_score, f1_score\n",
    "import warnings\n",
    "warnings.filterwarnings('ignore')\n",
    "\n",
    "print(\"🛬 Imported all packages.\", \"Warnings hidden. 👻\")"
   ]
  },
  {
   "cell_type": "markdown",
   "metadata": {},
   "source": [
    "#### Step 2 - Data Understanding\n",
    "###### \n",
    "The data for this project is in differnt files and will be loaded into the notebook. The following describes the columns present in the data.\n",
    "\n",
    "`Gender` -- Whether the customer is a male or a female\n",
    "\n",
    "`SeniorCitizen` -- Whether a customer is a senior citizen or not\n",
    "\n",
    "`Partner` -- Whether the customer has a partner or not (Yes, No)\n",
    "\n",
    "`Dependents` -- Whether the customer has dependents or not (Yes, No)\n",
    "\n",
    "`Tenure` -- Number of months the customer has stayed with the company\n",
    "\n",
    "`Phone Service` -- Whether the customer has a phone service or not (Yes, No)\n",
    "\n",
    "`MultipleLines` -- Whether the customer has multiple lines or not\n",
    "\n",
    "`InternetService` -- Customer's internet service provider (DSL, Fiber Optic, No)\n",
    "\n",
    "`OnlineSecurity` -- Whether the customer has online security or not (Yes, No, No Internet)\n",
    "\n",
    "`OnlineBackup` -- Whether the customer has online backup or not (Yes, No, No Internet)\n",
    "\n",
    "`DeviceProtection` -- Whether the customer has device protection or not (Yes, No, No internet service)\n",
    "\n",
    "`TechSupport` -- Whether the customer has tech support or not (Yes, No, No internet)\n",
    "\n",
    "`StreamingTV` -- Whether the customer has streaming TV or not (Yes, No, No internet service)\n",
    "\n",
    "`StreamingMovies` -- Whether the customer has streaming movies or not (Yes, No, No Internet service)\n",
    "\n",
    "`Contract` -- The contract term of the customer (Month-to-Month, One year, Two year)\n",
    "\n",
    "`PaperlessBilling` -- Whether the customer has paperless billing or not (Yes, No)\n",
    "\n",
    "`Payment Method` -- The customer's payment method (Electronic check, mailed check, Bank transfer(automatic), Credit card(automatic))\n",
    "\n",
    "`MonthlyCharges` -- The amount charged to the customer monthly\n",
    "\n",
    "`TotalCharges` -- The total amount charged to the customer\n",
    "\n",
    "`Churn` -- Whether the customer churned or not (Yes or No)"
   ]
  },
  {
   "cell_type": "markdown",
   "metadata": {},
   "source": [
    "#### First Dataset\n",
    "By using Python's dotenv with a .env file to safely fetch the first dataset from a SQL database into the notebook. This keeps the database credentials private while allowing easy access to the data for analysis."
   ]
  },
  {
   "cell_type": "code",
   "execution_count": 2,
   "metadata": {},
   "outputs": [],
   "source": [
    "# Load environment variables from .env file into a dictionary\n",
    "environment_variables = dotenv_values('.env')\n",
    "\n",
    "# Get the values for the credentials you set in the '.env' file\n",
    "server = environment_variables.get(\"SERVER\")\n",
    "database = environment_variables.get(\"DATABASE\")\n",
    "username = environment_variables.get(\"USERNAME\")\n",
    "password = environment_variables.get(\"PASSWORD\")"
   ]
  },
  {
   "cell_type": "code",
   "execution_count": 3,
   "metadata": {},
   "outputs": [],
   "source": [
    "# Create a connection string\n",
    "connection_string = f\"DRIVER={{SQL Server}};SERVER={server};DATABASE={database};UID={username};PWD={password};MARS_Connection=yes;MinProtocolVersion=TLSv1.2;\""
   ]
  },
  {
   "cell_type": "code",
   "execution_count": 4,
   "metadata": {},
   "outputs": [],
   "source": [
    "# Use the connect method of the pyodbc library and pass in the connection string.\n",
    "connection = pyodbc.connect(connection_string)"
   ]
  },
  {
   "cell_type": "code",
   "execution_count": 5,
   "metadata": {},
   "outputs": [],
   "source": [
    "# Sql query to get the 2020 data\n",
    "query = \"Select * FROM LP2_Telco_churn_first_3000\"\n",
    "First_Dataset = pd.read_sql(query, connection)"
   ]
  },
  {
   "cell_type": "code",
   "execution_count": 6,
   "metadata": {},
   "outputs": [],
   "source": [
    "#Save file to csv\n",
    "# First_Dataset.to_csv('DataSets\\LP2_Telco_churn_first_3000.csv', index=False)"
   ]
  },
  {
   "cell_type": "code",
   "execution_count": 7,
   "metadata": {},
   "outputs": [
    {
     "data": {
      "text/html": [
       "<div>\n",
       "<style scoped>\n",
       "    .dataframe tbody tr th:only-of-type {\n",
       "        vertical-align: middle;\n",
       "    }\n",
       "\n",
       "    .dataframe tbody tr th {\n",
       "        vertical-align: top;\n",
       "    }\n",
       "\n",
       "    .dataframe thead th {\n",
       "        text-align: right;\n",
       "    }\n",
       "</style>\n",
       "<table border=\"1\" class=\"dataframe\">\n",
       "  <thead>\n",
       "    <tr style=\"text-align: right;\">\n",
       "      <th></th>\n",
       "      <th>customerID</th>\n",
       "      <th>gender</th>\n",
       "      <th>SeniorCitizen</th>\n",
       "      <th>Partner</th>\n",
       "      <th>Dependents</th>\n",
       "      <th>tenure</th>\n",
       "      <th>PhoneService</th>\n",
       "      <th>MultipleLines</th>\n",
       "      <th>InternetService</th>\n",
       "      <th>OnlineSecurity</th>\n",
       "      <th>...</th>\n",
       "      <th>DeviceProtection</th>\n",
       "      <th>TechSupport</th>\n",
       "      <th>StreamingTV</th>\n",
       "      <th>StreamingMovies</th>\n",
       "      <th>Contract</th>\n",
       "      <th>PaperlessBilling</th>\n",
       "      <th>PaymentMethod</th>\n",
       "      <th>MonthlyCharges</th>\n",
       "      <th>TotalCharges</th>\n",
       "      <th>Churn</th>\n",
       "    </tr>\n",
       "  </thead>\n",
       "  <tbody>\n",
       "    <tr>\n",
       "      <th>0</th>\n",
       "      <td>7590-VHVEG</td>\n",
       "      <td>Female</td>\n",
       "      <td>False</td>\n",
       "      <td>True</td>\n",
       "      <td>False</td>\n",
       "      <td>1</td>\n",
       "      <td>False</td>\n",
       "      <td>None</td>\n",
       "      <td>DSL</td>\n",
       "      <td>False</td>\n",
       "      <td>...</td>\n",
       "      <td>False</td>\n",
       "      <td>False</td>\n",
       "      <td>False</td>\n",
       "      <td>False</td>\n",
       "      <td>Month-to-month</td>\n",
       "      <td>True</td>\n",
       "      <td>Electronic check</td>\n",
       "      <td>29.850000</td>\n",
       "      <td>29.850000</td>\n",
       "      <td>False</td>\n",
       "    </tr>\n",
       "    <tr>\n",
       "      <th>1</th>\n",
       "      <td>5575-GNVDE</td>\n",
       "      <td>Male</td>\n",
       "      <td>False</td>\n",
       "      <td>False</td>\n",
       "      <td>False</td>\n",
       "      <td>34</td>\n",
       "      <td>True</td>\n",
       "      <td>False</td>\n",
       "      <td>DSL</td>\n",
       "      <td>True</td>\n",
       "      <td>...</td>\n",
       "      <td>True</td>\n",
       "      <td>False</td>\n",
       "      <td>False</td>\n",
       "      <td>False</td>\n",
       "      <td>One year</td>\n",
       "      <td>False</td>\n",
       "      <td>Mailed check</td>\n",
       "      <td>56.950001</td>\n",
       "      <td>1889.500000</td>\n",
       "      <td>False</td>\n",
       "    </tr>\n",
       "    <tr>\n",
       "      <th>2</th>\n",
       "      <td>3668-QPYBK</td>\n",
       "      <td>Male</td>\n",
       "      <td>False</td>\n",
       "      <td>False</td>\n",
       "      <td>False</td>\n",
       "      <td>2</td>\n",
       "      <td>True</td>\n",
       "      <td>False</td>\n",
       "      <td>DSL</td>\n",
       "      <td>True</td>\n",
       "      <td>...</td>\n",
       "      <td>False</td>\n",
       "      <td>False</td>\n",
       "      <td>False</td>\n",
       "      <td>False</td>\n",
       "      <td>Month-to-month</td>\n",
       "      <td>True</td>\n",
       "      <td>Mailed check</td>\n",
       "      <td>53.849998</td>\n",
       "      <td>108.150002</td>\n",
       "      <td>True</td>\n",
       "    </tr>\n",
       "  </tbody>\n",
       "</table>\n",
       "<p>3 rows × 21 columns</p>\n",
       "</div>"
      ],
      "text/plain": [
       "   customerID  gender  SeniorCitizen  Partner  Dependents  tenure  \\\n",
       "0  7590-VHVEG  Female          False     True       False       1   \n",
       "1  5575-GNVDE    Male          False    False       False      34   \n",
       "2  3668-QPYBK    Male          False    False       False       2   \n",
       "\n",
       "   PhoneService MultipleLines InternetService OnlineSecurity  ...  \\\n",
       "0         False          None             DSL          False  ...   \n",
       "1          True         False             DSL           True  ...   \n",
       "2          True         False             DSL           True  ...   \n",
       "\n",
       "  DeviceProtection TechSupport StreamingTV StreamingMovies        Contract  \\\n",
       "0            False       False       False           False  Month-to-month   \n",
       "1             True       False       False           False        One year   \n",
       "2            False       False       False           False  Month-to-month   \n",
       "\n",
       "  PaperlessBilling     PaymentMethod MonthlyCharges  TotalCharges  Churn  \n",
       "0             True  Electronic check      29.850000     29.850000  False  \n",
       "1            False      Mailed check      56.950001   1889.500000  False  \n",
       "2             True      Mailed check      53.849998    108.150002   True  \n",
       "\n",
       "[3 rows x 21 columns]"
      ]
     },
     "execution_count": 7,
     "metadata": {},
     "output_type": "execute_result"
    }
   ],
   "source": [
    "# Preview of the first Data set \n",
    "First_Dataset.head(3)"
   ]
  },
  {
   "cell_type": "code",
   "execution_count": 8,
   "metadata": {},
   "outputs": [
    {
     "name": "stdout",
     "output_type": "stream",
     "text": [
      "<class 'pandas.core.frame.DataFrame'>\n",
      "RangeIndex: 3000 entries, 0 to 2999\n",
      "Data columns (total 21 columns):\n",
      " #   Column            Non-Null Count  Dtype  \n",
      "---  ------            --------------  -----  \n",
      " 0   customerID        3000 non-null   object \n",
      " 1   gender            3000 non-null   object \n",
      " 2   SeniorCitizen     3000 non-null   bool   \n",
      " 3   Partner           3000 non-null   bool   \n",
      " 4   Dependents        3000 non-null   bool   \n",
      " 5   tenure            3000 non-null   int64  \n",
      " 6   PhoneService      3000 non-null   bool   \n",
      " 7   MultipleLines     2731 non-null   object \n",
      " 8   InternetService   3000 non-null   object \n",
      " 9   OnlineSecurity    2349 non-null   object \n",
      " 10  OnlineBackup      2349 non-null   object \n",
      " 11  DeviceProtection  2349 non-null   object \n",
      " 12  TechSupport       2349 non-null   object \n",
      " 13  StreamingTV       2349 non-null   object \n",
      " 14  StreamingMovies   2349 non-null   object \n",
      " 15  Contract          3000 non-null   object \n",
      " 16  PaperlessBilling  3000 non-null   bool   \n",
      " 17  PaymentMethod     3000 non-null   object \n",
      " 18  MonthlyCharges    3000 non-null   float64\n",
      " 19  TotalCharges      2995 non-null   float64\n",
      " 20  Churn             2999 non-null   object \n",
      "dtypes: bool(5), float64(2), int64(1), object(13)\n",
      "memory usage: 389.8+ KB\n"
     ]
    }
   ],
   "source": [
    "First_Dataset.info()"
   ]
  },
  {
   "cell_type": "markdown",
   "metadata": {},
   "source": [
    "#### Second Dataset\n",
    "Now, obtaining the second dataset from a GitHub repository, and use Pandas to import the CSV file into the notebook for analysis."
   ]
  },
  {
   "cell_type": "code",
   "execution_count": 9,
   "metadata": {},
   "outputs": [],
   "source": [
    "# Loading the second dataset into the notebook\n",
    "Second_Dataset = pd.read_csv(r\"DataSets/LP2_Telco-churn-second-2000.csv\")"
   ]
  },
  {
   "cell_type": "code",
   "execution_count": 10,
   "metadata": {},
   "outputs": [
    {
     "data": {
      "text/html": [
       "<div>\n",
       "<style scoped>\n",
       "    .dataframe tbody tr th:only-of-type {\n",
       "        vertical-align: middle;\n",
       "    }\n",
       "\n",
       "    .dataframe tbody tr th {\n",
       "        vertical-align: top;\n",
       "    }\n",
       "\n",
       "    .dataframe thead th {\n",
       "        text-align: right;\n",
       "    }\n",
       "</style>\n",
       "<table border=\"1\" class=\"dataframe\">\n",
       "  <thead>\n",
       "    <tr style=\"text-align: right;\">\n",
       "      <th></th>\n",
       "      <th>customerID</th>\n",
       "      <th>gender</th>\n",
       "      <th>SeniorCitizen</th>\n",
       "      <th>Partner</th>\n",
       "      <th>Dependents</th>\n",
       "      <th>tenure</th>\n",
       "      <th>PhoneService</th>\n",
       "      <th>MultipleLines</th>\n",
       "      <th>InternetService</th>\n",
       "      <th>OnlineSecurity</th>\n",
       "      <th>...</th>\n",
       "      <th>DeviceProtection</th>\n",
       "      <th>TechSupport</th>\n",
       "      <th>StreamingTV</th>\n",
       "      <th>StreamingMovies</th>\n",
       "      <th>Contract</th>\n",
       "      <th>PaperlessBilling</th>\n",
       "      <th>PaymentMethod</th>\n",
       "      <th>MonthlyCharges</th>\n",
       "      <th>TotalCharges</th>\n",
       "      <th>Churn</th>\n",
       "    </tr>\n",
       "  </thead>\n",
       "  <tbody>\n",
       "    <tr>\n",
       "      <th>0</th>\n",
       "      <td>5600-PDUJF</td>\n",
       "      <td>Male</td>\n",
       "      <td>0</td>\n",
       "      <td>No</td>\n",
       "      <td>No</td>\n",
       "      <td>6</td>\n",
       "      <td>Yes</td>\n",
       "      <td>No</td>\n",
       "      <td>DSL</td>\n",
       "      <td>No</td>\n",
       "      <td>...</td>\n",
       "      <td>No</td>\n",
       "      <td>Yes</td>\n",
       "      <td>No</td>\n",
       "      <td>No</td>\n",
       "      <td>Month-to-month</td>\n",
       "      <td>Yes</td>\n",
       "      <td>Credit card (automatic)</td>\n",
       "      <td>49.50</td>\n",
       "      <td>312.7</td>\n",
       "      <td>No</td>\n",
       "    </tr>\n",
       "    <tr>\n",
       "      <th>1</th>\n",
       "      <td>8292-TYSPY</td>\n",
       "      <td>Male</td>\n",
       "      <td>0</td>\n",
       "      <td>No</td>\n",
       "      <td>No</td>\n",
       "      <td>19</td>\n",
       "      <td>Yes</td>\n",
       "      <td>No</td>\n",
       "      <td>DSL</td>\n",
       "      <td>No</td>\n",
       "      <td>...</td>\n",
       "      <td>Yes</td>\n",
       "      <td>Yes</td>\n",
       "      <td>No</td>\n",
       "      <td>No</td>\n",
       "      <td>Month-to-month</td>\n",
       "      <td>Yes</td>\n",
       "      <td>Credit card (automatic)</td>\n",
       "      <td>55.00</td>\n",
       "      <td>1046.5</td>\n",
       "      <td>Yes</td>\n",
       "    </tr>\n",
       "    <tr>\n",
       "      <th>2</th>\n",
       "      <td>0567-XRHCU</td>\n",
       "      <td>Female</td>\n",
       "      <td>0</td>\n",
       "      <td>Yes</td>\n",
       "      <td>Yes</td>\n",
       "      <td>69</td>\n",
       "      <td>No</td>\n",
       "      <td>No phone service</td>\n",
       "      <td>DSL</td>\n",
       "      <td>Yes</td>\n",
       "      <td>...</td>\n",
       "      <td>Yes</td>\n",
       "      <td>No</td>\n",
       "      <td>No</td>\n",
       "      <td>Yes</td>\n",
       "      <td>Two year</td>\n",
       "      <td>Yes</td>\n",
       "      <td>Credit card (automatic)</td>\n",
       "      <td>43.95</td>\n",
       "      <td>2960.1</td>\n",
       "      <td>No</td>\n",
       "    </tr>\n",
       "  </tbody>\n",
       "</table>\n",
       "<p>3 rows × 21 columns</p>\n",
       "</div>"
      ],
      "text/plain": [
       "   customerID  gender  SeniorCitizen Partner Dependents  tenure PhoneService  \\\n",
       "0  5600-PDUJF    Male              0      No         No       6          Yes   \n",
       "1  8292-TYSPY    Male              0      No         No      19          Yes   \n",
       "2  0567-XRHCU  Female              0     Yes        Yes      69           No   \n",
       "\n",
       "      MultipleLines InternetService OnlineSecurity  ... DeviceProtection  \\\n",
       "0                No             DSL             No  ...               No   \n",
       "1                No             DSL             No  ...              Yes   \n",
       "2  No phone service             DSL            Yes  ...              Yes   \n",
       "\n",
       "  TechSupport StreamingTV StreamingMovies        Contract PaperlessBilling  \\\n",
       "0         Yes          No              No  Month-to-month              Yes   \n",
       "1         Yes          No              No  Month-to-month              Yes   \n",
       "2          No          No             Yes        Two year              Yes   \n",
       "\n",
       "             PaymentMethod MonthlyCharges  TotalCharges Churn  \n",
       "0  Credit card (automatic)          49.50         312.7    No  \n",
       "1  Credit card (automatic)          55.00        1046.5   Yes  \n",
       "2  Credit card (automatic)          43.95        2960.1    No  \n",
       "\n",
       "[3 rows x 21 columns]"
      ]
     },
     "execution_count": 10,
     "metadata": {},
     "output_type": "execute_result"
    }
   ],
   "source": [
    "Second_Dataset.head(3)"
   ]
  },
  {
   "cell_type": "code",
   "execution_count": 11,
   "metadata": {},
   "outputs": [
    {
     "name": "stdout",
     "output_type": "stream",
     "text": [
      "<class 'pandas.core.frame.DataFrame'>\n",
      "RangeIndex: 2043 entries, 0 to 2042\n",
      "Data columns (total 21 columns):\n",
      " #   Column            Non-Null Count  Dtype  \n",
      "---  ------            --------------  -----  \n",
      " 0   customerID        2043 non-null   object \n",
      " 1   gender            2043 non-null   object \n",
      " 2   SeniorCitizen     2043 non-null   int64  \n",
      " 3   Partner           2043 non-null   object \n",
      " 4   Dependents        2043 non-null   object \n",
      " 5   tenure            2043 non-null   int64  \n",
      " 6   PhoneService      2043 non-null   object \n",
      " 7   MultipleLines     2043 non-null   object \n",
      " 8   InternetService   2043 non-null   object \n",
      " 9   OnlineSecurity    2043 non-null   object \n",
      " 10  OnlineBackup      2043 non-null   object \n",
      " 11  DeviceProtection  2043 non-null   object \n",
      " 12  TechSupport       2043 non-null   object \n",
      " 13  StreamingTV       2043 non-null   object \n",
      " 14  StreamingMovies   2043 non-null   object \n",
      " 15  Contract          2043 non-null   object \n",
      " 16  PaperlessBilling  2043 non-null   object \n",
      " 17  PaymentMethod     2043 non-null   object \n",
      " 18  MonthlyCharges    2043 non-null   float64\n",
      " 19  TotalCharges      2043 non-null   object \n",
      " 20  Churn             2043 non-null   object \n",
      "dtypes: float64(1), int64(2), object(18)\n",
      "memory usage: 335.3+ KB\n"
     ]
    }
   ],
   "source": [
    "Second_Dataset.info()"
   ]
  },
  {
   "cell_type": "markdown",
   "metadata": {},
   "source": [
    "#### Third Dataset\n",
    "Finally, obtaining the third dataset from a OneDrive file, and use Pandas to import the Excel file into the notebook for analysis."
   ]
  },
  {
   "cell_type": "code",
   "execution_count": 12,
   "metadata": {},
   "outputs": [],
   "source": [
    "# Loading the second dataset into the notebook\n",
    "Third_Dataset = pd.read_excel(r\"DataSets/Telco-churn-last-2000.xlsx\")"
   ]
  },
  {
   "cell_type": "code",
   "execution_count": 13,
   "metadata": {},
   "outputs": [
    {
     "data": {
      "text/html": [
       "<div>\n",
       "<style scoped>\n",
       "    .dataframe tbody tr th:only-of-type {\n",
       "        vertical-align: middle;\n",
       "    }\n",
       "\n",
       "    .dataframe tbody tr th {\n",
       "        vertical-align: top;\n",
       "    }\n",
       "\n",
       "    .dataframe thead th {\n",
       "        text-align: right;\n",
       "    }\n",
       "</style>\n",
       "<table border=\"1\" class=\"dataframe\">\n",
       "  <thead>\n",
       "    <tr style=\"text-align: right;\">\n",
       "      <th></th>\n",
       "      <th>customerID</th>\n",
       "      <th>gender</th>\n",
       "      <th>SeniorCitizen</th>\n",
       "      <th>Partner</th>\n",
       "      <th>Dependents</th>\n",
       "      <th>tenure</th>\n",
       "      <th>PhoneService</th>\n",
       "      <th>MultipleLines</th>\n",
       "      <th>InternetService</th>\n",
       "      <th>OnlineSecurity</th>\n",
       "      <th>OnlineBackup</th>\n",
       "      <th>DeviceProtection</th>\n",
       "      <th>TechSupport</th>\n",
       "      <th>StreamingTV</th>\n",
       "      <th>StreamingMovies</th>\n",
       "      <th>Contract</th>\n",
       "      <th>PaperlessBilling</th>\n",
       "      <th>PaymentMethod</th>\n",
       "      <th>MonthlyCharges</th>\n",
       "      <th>TotalCharges</th>\n",
       "    </tr>\n",
       "  </thead>\n",
       "  <tbody>\n",
       "    <tr>\n",
       "      <th>0</th>\n",
       "      <td>7613-LLQFO</td>\n",
       "      <td>Male</td>\n",
       "      <td>0</td>\n",
       "      <td>No</td>\n",
       "      <td>No</td>\n",
       "      <td>12</td>\n",
       "      <td>Yes</td>\n",
       "      <td>Yes</td>\n",
       "      <td>Fiber optic</td>\n",
       "      <td>No</td>\n",
       "      <td>No</td>\n",
       "      <td>No</td>\n",
       "      <td>No</td>\n",
       "      <td>Yes</td>\n",
       "      <td>No</td>\n",
       "      <td>Month-to-month</td>\n",
       "      <td>Yes</td>\n",
       "      <td>Electronic check</td>\n",
       "      <td>84.45</td>\n",
       "      <td>1059.55</td>\n",
       "    </tr>\n",
       "    <tr>\n",
       "      <th>1</th>\n",
       "      <td>4568-TTZRT</td>\n",
       "      <td>Male</td>\n",
       "      <td>0</td>\n",
       "      <td>No</td>\n",
       "      <td>No</td>\n",
       "      <td>9</td>\n",
       "      <td>Yes</td>\n",
       "      <td>No</td>\n",
       "      <td>No</td>\n",
       "      <td>No internet service</td>\n",
       "      <td>No internet service</td>\n",
       "      <td>No internet service</td>\n",
       "      <td>No internet service</td>\n",
       "      <td>No internet service</td>\n",
       "      <td>No internet service</td>\n",
       "      <td>Month-to-month</td>\n",
       "      <td>No</td>\n",
       "      <td>Mailed check</td>\n",
       "      <td>20.40</td>\n",
       "      <td>181.8</td>\n",
       "    </tr>\n",
       "    <tr>\n",
       "      <th>2</th>\n",
       "      <td>9513-DXHDA</td>\n",
       "      <td>Male</td>\n",
       "      <td>0</td>\n",
       "      <td>No</td>\n",
       "      <td>No</td>\n",
       "      <td>27</td>\n",
       "      <td>Yes</td>\n",
       "      <td>No</td>\n",
       "      <td>DSL</td>\n",
       "      <td>Yes</td>\n",
       "      <td>No</td>\n",
       "      <td>Yes</td>\n",
       "      <td>Yes</td>\n",
       "      <td>Yes</td>\n",
       "      <td>Yes</td>\n",
       "      <td>One year</td>\n",
       "      <td>No</td>\n",
       "      <td>Electronic check</td>\n",
       "      <td>81.70</td>\n",
       "      <td>2212.55</td>\n",
       "    </tr>\n",
       "  </tbody>\n",
       "</table>\n",
       "</div>"
      ],
      "text/plain": [
       "   customerID gender  SeniorCitizen Partner Dependents  tenure PhoneService  \\\n",
       "0  7613-LLQFO   Male              0      No         No      12          Yes   \n",
       "1  4568-TTZRT   Male              0      No         No       9          Yes   \n",
       "2  9513-DXHDA   Male              0      No         No      27          Yes   \n",
       "\n",
       "  MultipleLines InternetService       OnlineSecurity         OnlineBackup  \\\n",
       "0           Yes     Fiber optic                   No                   No   \n",
       "1            No              No  No internet service  No internet service   \n",
       "2            No             DSL                  Yes                   No   \n",
       "\n",
       "      DeviceProtection          TechSupport          StreamingTV  \\\n",
       "0                   No                   No                  Yes   \n",
       "1  No internet service  No internet service  No internet service   \n",
       "2                  Yes                  Yes                  Yes   \n",
       "\n",
       "       StreamingMovies        Contract PaperlessBilling     PaymentMethod  \\\n",
       "0                   No  Month-to-month              Yes  Electronic check   \n",
       "1  No internet service  Month-to-month               No      Mailed check   \n",
       "2                  Yes        One year               No  Electronic check   \n",
       "\n",
       "   MonthlyCharges TotalCharges  \n",
       "0           84.45      1059.55  \n",
       "1           20.40        181.8  \n",
       "2           81.70      2212.55  "
      ]
     },
     "execution_count": 13,
     "metadata": {},
     "output_type": "execute_result"
    }
   ],
   "source": [
    "Third_Dataset.head(3)"
   ]
  },
  {
   "cell_type": "code",
   "execution_count": 14,
   "metadata": {},
   "outputs": [
    {
     "name": "stdout",
     "output_type": "stream",
     "text": [
      "<class 'pandas.core.frame.DataFrame'>\n",
      "RangeIndex: 2000 entries, 0 to 1999\n",
      "Data columns (total 20 columns):\n",
      " #   Column            Non-Null Count  Dtype  \n",
      "---  ------            --------------  -----  \n",
      " 0   customerID        2000 non-null   object \n",
      " 1   gender            2000 non-null   object \n",
      " 2   SeniorCitizen     2000 non-null   int64  \n",
      " 3   Partner           2000 non-null   object \n",
      " 4   Dependents        2000 non-null   object \n",
      " 5   tenure            2000 non-null   int64  \n",
      " 6   PhoneService      2000 non-null   object \n",
      " 7   MultipleLines     2000 non-null   object \n",
      " 8   InternetService   2000 non-null   object \n",
      " 9   OnlineSecurity    2000 non-null   object \n",
      " 10  OnlineBackup      2000 non-null   object \n",
      " 11  DeviceProtection  2000 non-null   object \n",
      " 12  TechSupport       2000 non-null   object \n",
      " 13  StreamingTV       2000 non-null   object \n",
      " 14  StreamingMovies   2000 non-null   object \n",
      " 15  Contract          2000 non-null   object \n",
      " 16  PaperlessBilling  2000 non-null   object \n",
      " 17  PaymentMethod     2000 non-null   object \n",
      " 18  MonthlyCharges    2000 non-null   float64\n",
      " 19  TotalCharges      2000 non-null   object \n",
      "dtypes: float64(1), int64(2), object(17)\n",
      "memory usage: 312.6+ KB\n"
     ]
    }
   ],
   "source": [
    "Third_Dataset.info()"
   ]
  },
  {
   "cell_type": "markdown",
   "metadata": {},
   "source": [
    "##### Now, checking if the first and second Dataset have the same column names for easy concatenation."
   ]
  },
  {
   "cell_type": "code",
   "execution_count": 15,
   "metadata": {},
   "outputs": [
    {
     "name": "stdout",
     "output_type": "stream",
     "text": [
      "All DataFrames have the same column names.\n"
     ]
    }
   ],
   "source": [
    "# Get the column names from each DataFrame\n",
    "columns_First_Dataset = set(First_Dataset.columns)\n",
    "columns_Second_Dataset = set(Second_Dataset.columns)\n",
    "\n",
    "# Check if all DataFrames have the same column names\n",
    "if columns_First_Dataset == columns_Second_Dataset:\n",
    "    print(\"All DataFrames have the same column names.\")\n",
    "else:\n",
    "    print(\"Not all DataFrames have the same column names.\")"
   ]
  },
  {
   "cell_type": "markdown",
   "metadata": {},
   "source": [
    "Next, concatenating the first and second Dataset to prepare them for analysis and training"
   ]
  },
  {
   "cell_type": "code",
   "execution_count": 16,
   "metadata": {},
   "outputs": [],
   "source": [
    "train_df = pd.concat([First_Dataset, Second_Dataset], ignore_index=True)"
   ]
  },
  {
   "cell_type": "code",
   "execution_count": 17,
   "metadata": {},
   "outputs": [],
   "source": [
    "#Save file to csv\n",
    "# train_df.to_csv('DataSets\\Final_Dataset\\Final_Datasets.csv', index=False)"
   ]
  },
  {
   "cell_type": "code",
   "execution_count": 18,
   "metadata": {},
   "outputs": [
    {
     "data": {
      "text/html": [
       "<div>\n",
       "<style scoped>\n",
       "    .dataframe tbody tr th:only-of-type {\n",
       "        vertical-align: middle;\n",
       "    }\n",
       "\n",
       "    .dataframe tbody tr th {\n",
       "        vertical-align: top;\n",
       "    }\n",
       "\n",
       "    .dataframe thead th {\n",
       "        text-align: right;\n",
       "    }\n",
       "</style>\n",
       "<table border=\"1\" class=\"dataframe\">\n",
       "  <thead>\n",
       "    <tr style=\"text-align: right;\">\n",
       "      <th></th>\n",
       "      <th>customerID</th>\n",
       "      <th>gender</th>\n",
       "      <th>SeniorCitizen</th>\n",
       "      <th>Partner</th>\n",
       "      <th>Dependents</th>\n",
       "      <th>tenure</th>\n",
       "      <th>PhoneService</th>\n",
       "      <th>MultipleLines</th>\n",
       "      <th>InternetService</th>\n",
       "      <th>OnlineSecurity</th>\n",
       "      <th>...</th>\n",
       "      <th>DeviceProtection</th>\n",
       "      <th>TechSupport</th>\n",
       "      <th>StreamingTV</th>\n",
       "      <th>StreamingMovies</th>\n",
       "      <th>Contract</th>\n",
       "      <th>PaperlessBilling</th>\n",
       "      <th>PaymentMethod</th>\n",
       "      <th>MonthlyCharges</th>\n",
       "      <th>TotalCharges</th>\n",
       "      <th>Churn</th>\n",
       "    </tr>\n",
       "  </thead>\n",
       "  <tbody>\n",
       "    <tr>\n",
       "      <th>0</th>\n",
       "      <td>7590-VHVEG</td>\n",
       "      <td>Female</td>\n",
       "      <td>0</td>\n",
       "      <td>True</td>\n",
       "      <td>False</td>\n",
       "      <td>1</td>\n",
       "      <td>False</td>\n",
       "      <td>None</td>\n",
       "      <td>DSL</td>\n",
       "      <td>False</td>\n",
       "      <td>...</td>\n",
       "      <td>False</td>\n",
       "      <td>False</td>\n",
       "      <td>False</td>\n",
       "      <td>False</td>\n",
       "      <td>Month-to-month</td>\n",
       "      <td>True</td>\n",
       "      <td>Electronic check</td>\n",
       "      <td>29.850000</td>\n",
       "      <td>29.85</td>\n",
       "      <td>False</td>\n",
       "    </tr>\n",
       "    <tr>\n",
       "      <th>1</th>\n",
       "      <td>5575-GNVDE</td>\n",
       "      <td>Male</td>\n",
       "      <td>0</td>\n",
       "      <td>False</td>\n",
       "      <td>False</td>\n",
       "      <td>34</td>\n",
       "      <td>True</td>\n",
       "      <td>False</td>\n",
       "      <td>DSL</td>\n",
       "      <td>True</td>\n",
       "      <td>...</td>\n",
       "      <td>True</td>\n",
       "      <td>False</td>\n",
       "      <td>False</td>\n",
       "      <td>False</td>\n",
       "      <td>One year</td>\n",
       "      <td>False</td>\n",
       "      <td>Mailed check</td>\n",
       "      <td>56.950001</td>\n",
       "      <td>1889.5</td>\n",
       "      <td>False</td>\n",
       "    </tr>\n",
       "    <tr>\n",
       "      <th>2</th>\n",
       "      <td>3668-QPYBK</td>\n",
       "      <td>Male</td>\n",
       "      <td>0</td>\n",
       "      <td>False</td>\n",
       "      <td>False</td>\n",
       "      <td>2</td>\n",
       "      <td>True</td>\n",
       "      <td>False</td>\n",
       "      <td>DSL</td>\n",
       "      <td>True</td>\n",
       "      <td>...</td>\n",
       "      <td>False</td>\n",
       "      <td>False</td>\n",
       "      <td>False</td>\n",
       "      <td>False</td>\n",
       "      <td>Month-to-month</td>\n",
       "      <td>True</td>\n",
       "      <td>Mailed check</td>\n",
       "      <td>53.849998</td>\n",
       "      <td>108.150002</td>\n",
       "      <td>True</td>\n",
       "    </tr>\n",
       "  </tbody>\n",
       "</table>\n",
       "<p>3 rows × 21 columns</p>\n",
       "</div>"
      ],
      "text/plain": [
       "   customerID  gender  SeniorCitizen Partner Dependents  tenure PhoneService  \\\n",
       "0  7590-VHVEG  Female              0    True      False       1        False   \n",
       "1  5575-GNVDE    Male              0   False      False      34         True   \n",
       "2  3668-QPYBK    Male              0   False      False       2         True   \n",
       "\n",
       "  MultipleLines InternetService OnlineSecurity  ... DeviceProtection  \\\n",
       "0          None             DSL          False  ...            False   \n",
       "1         False             DSL           True  ...             True   \n",
       "2         False             DSL           True  ...            False   \n",
       "\n",
       "  TechSupport StreamingTV StreamingMovies        Contract PaperlessBilling  \\\n",
       "0       False       False           False  Month-to-month             True   \n",
       "1       False       False           False        One year            False   \n",
       "2       False       False           False  Month-to-month             True   \n",
       "\n",
       "      PaymentMethod MonthlyCharges  TotalCharges  Churn  \n",
       "0  Electronic check      29.850000         29.85  False  \n",
       "1      Mailed check      56.950001        1889.5  False  \n",
       "2      Mailed check      53.849998    108.150002   True  \n",
       "\n",
       "[3 rows x 21 columns]"
      ]
     },
     "execution_count": 18,
     "metadata": {},
     "output_type": "execute_result"
    }
   ],
   "source": [
    "train_df.head(3)"
   ]
  },
  {
   "cell_type": "code",
   "execution_count": 19,
   "metadata": {},
   "outputs": [],
   "source": [
    "# Change all column names to lowercase\n",
    "train_df.columns = train_df.columns.str.lower()"
   ]
  },
  {
   "cell_type": "code",
   "execution_count": 20,
   "metadata": {},
   "outputs": [
    {
     "name": "stdout",
     "output_type": "stream",
     "text": [
      "<class 'pandas.core.frame.DataFrame'>\n",
      "RangeIndex: 5043 entries, 0 to 5042\n",
      "Data columns (total 21 columns):\n",
      " #   Column            Non-Null Count  Dtype  \n",
      "---  ------            --------------  -----  \n",
      " 0   customerid        5043 non-null   object \n",
      " 1   gender            5043 non-null   object \n",
      " 2   seniorcitizen     5043 non-null   int64  \n",
      " 3   partner           5043 non-null   object \n",
      " 4   dependents        5043 non-null   object \n",
      " 5   tenure            5043 non-null   int64  \n",
      " 6   phoneservice      5043 non-null   object \n",
      " 7   multiplelines     4774 non-null   object \n",
      " 8   internetservice   5043 non-null   object \n",
      " 9   onlinesecurity    4392 non-null   object \n",
      " 10  onlinebackup      4392 non-null   object \n",
      " 11  deviceprotection  4392 non-null   object \n",
      " 12  techsupport       4392 non-null   object \n",
      " 13  streamingtv       4392 non-null   object \n",
      " 14  streamingmovies   4392 non-null   object \n",
      " 15  contract          5043 non-null   object \n",
      " 16  paperlessbilling  5043 non-null   object \n",
      " 17  paymentmethod     5043 non-null   object \n",
      " 18  monthlycharges    5043 non-null   float64\n",
      " 19  totalcharges      5038 non-null   object \n",
      " 20  churn             5042 non-null   object \n",
      "dtypes: float64(1), int64(2), object(18)\n",
      "memory usage: 827.5+ KB\n"
     ]
    }
   ],
   "source": [
    "train_df.info()"
   ]
  },
  {
   "cell_type": "markdown",
   "metadata": {},
   "source": [
    "##### After the concatnation we will have to check if there is a null values in our concatnated dataset"
   ]
  },
  {
   "cell_type": "code",
   "execution_count": 21,
   "metadata": {},
   "outputs": [
    {
     "data": {
      "text/plain": [
       "customerid            0\n",
       "gender                0\n",
       "seniorcitizen         0\n",
       "partner               0\n",
       "dependents            0\n",
       "tenure                0\n",
       "phoneservice          0\n",
       "multiplelines       269\n",
       "internetservice       0\n",
       "onlinesecurity      651\n",
       "onlinebackup        651\n",
       "deviceprotection    651\n",
       "techsupport         651\n",
       "streamingtv         651\n",
       "streamingmovies     651\n",
       "contract              0\n",
       "paperlessbilling      0\n",
       "paymentmethod         0\n",
       "monthlycharges        0\n",
       "totalcharges          5\n",
       "churn                 1\n",
       "dtype: int64"
      ]
     },
     "execution_count": 21,
     "metadata": {},
     "output_type": "execute_result"
    }
   ],
   "source": [
    "train_df.isnull().sum()"
   ]
  },
  {
   "cell_type": "code",
   "execution_count": 22,
   "metadata": {},
   "outputs": [
    {
     "data": {
      "text/html": [
       "<div>\n",
       "<style scoped>\n",
       "    .dataframe tbody tr th:only-of-type {\n",
       "        vertical-align: middle;\n",
       "    }\n",
       "\n",
       "    .dataframe tbody tr th {\n",
       "        vertical-align: top;\n",
       "    }\n",
       "\n",
       "    .dataframe thead th {\n",
       "        text-align: right;\n",
       "    }\n",
       "</style>\n",
       "<table border=\"1\" class=\"dataframe\">\n",
       "  <thead>\n",
       "    <tr style=\"text-align: right;\">\n",
       "      <th></th>\n",
       "      <th>Column</th>\n",
       "      <th>Unique_Values</th>\n",
       "      <th>Num_Unique_Values</th>\n",
       "    </tr>\n",
       "  </thead>\n",
       "  <tbody>\n",
       "    <tr>\n",
       "      <th>0</th>\n",
       "      <td>customerid</td>\n",
       "      <td>[7590-VHVEG, 5575-GNVDE, 3668-QPYBK, 7795-CFOC...</td>\n",
       "      <td>5043</td>\n",
       "    </tr>\n",
       "    <tr>\n",
       "      <th>1</th>\n",
       "      <td>gender</td>\n",
       "      <td>[Female, Male]</td>\n",
       "      <td>2</td>\n",
       "    </tr>\n",
       "    <tr>\n",
       "      <th>2</th>\n",
       "      <td>seniorcitizen</td>\n",
       "      <td>[0, 1]</td>\n",
       "      <td>2</td>\n",
       "    </tr>\n",
       "    <tr>\n",
       "      <th>3</th>\n",
       "      <td>partner</td>\n",
       "      <td>[True, False, No, Yes]</td>\n",
       "      <td>4</td>\n",
       "    </tr>\n",
       "    <tr>\n",
       "      <th>4</th>\n",
       "      <td>dependents</td>\n",
       "      <td>[False, True, No, Yes]</td>\n",
       "      <td>4</td>\n",
       "    </tr>\n",
       "    <tr>\n",
       "      <th>5</th>\n",
       "      <td>tenure</td>\n",
       "      <td>[1, 34, 2, 45, 8, 22, 10, 28, 62, 13, 16, 58, ...</td>\n",
       "      <td>73</td>\n",
       "    </tr>\n",
       "    <tr>\n",
       "      <th>6</th>\n",
       "      <td>phoneservice</td>\n",
       "      <td>[False, True, Yes, No]</td>\n",
       "      <td>4</td>\n",
       "    </tr>\n",
       "    <tr>\n",
       "      <th>7</th>\n",
       "      <td>multiplelines</td>\n",
       "      <td>[None, False, True, No, No phone service, Yes]</td>\n",
       "      <td>5</td>\n",
       "    </tr>\n",
       "    <tr>\n",
       "      <th>8</th>\n",
       "      <td>internetservice</td>\n",
       "      <td>[DSL, Fiber optic, No]</td>\n",
       "      <td>3</td>\n",
       "    </tr>\n",
       "    <tr>\n",
       "      <th>9</th>\n",
       "      <td>onlinesecurity</td>\n",
       "      <td>[False, True, None, No, Yes, No internet service]</td>\n",
       "      <td>5</td>\n",
       "    </tr>\n",
       "    <tr>\n",
       "      <th>10</th>\n",
       "      <td>onlinebackup</td>\n",
       "      <td>[True, False, None, No, Yes, No internet service]</td>\n",
       "      <td>5</td>\n",
       "    </tr>\n",
       "    <tr>\n",
       "      <th>11</th>\n",
       "      <td>deviceprotection</td>\n",
       "      <td>[False, True, None, No, Yes, No internet service]</td>\n",
       "      <td>5</td>\n",
       "    </tr>\n",
       "    <tr>\n",
       "      <th>12</th>\n",
       "      <td>techsupport</td>\n",
       "      <td>[False, True, None, Yes, No, No internet service]</td>\n",
       "      <td>5</td>\n",
       "    </tr>\n",
       "    <tr>\n",
       "      <th>13</th>\n",
       "      <td>streamingtv</td>\n",
       "      <td>[False, True, None, No, Yes, No internet service]</td>\n",
       "      <td>5</td>\n",
       "    </tr>\n",
       "    <tr>\n",
       "      <th>14</th>\n",
       "      <td>streamingmovies</td>\n",
       "      <td>[False, True, None, No, Yes, No internet service]</td>\n",
       "      <td>5</td>\n",
       "    </tr>\n",
       "    <tr>\n",
       "      <th>15</th>\n",
       "      <td>contract</td>\n",
       "      <td>[Month-to-month, One year, Two year]</td>\n",
       "      <td>3</td>\n",
       "    </tr>\n",
       "    <tr>\n",
       "      <th>16</th>\n",
       "      <td>paperlessbilling</td>\n",
       "      <td>[True, False, Yes, No]</td>\n",
       "      <td>4</td>\n",
       "    </tr>\n",
       "    <tr>\n",
       "      <th>17</th>\n",
       "      <td>paymentmethod</td>\n",
       "      <td>[Electronic check, Mailed check, Bank transfer...</td>\n",
       "      <td>4</td>\n",
       "    </tr>\n",
       "    <tr>\n",
       "      <th>18</th>\n",
       "      <td>monthlycharges</td>\n",
       "      <td>[29.850000381469727, 56.95000076293945, 53.849...</td>\n",
       "      <td>2069</td>\n",
       "    </tr>\n",
       "    <tr>\n",
       "      <th>19</th>\n",
       "      <td>totalcharges</td>\n",
       "      <td>[29.850000381469727, 1889.5, 108.1500015258789...</td>\n",
       "      <td>4884</td>\n",
       "    </tr>\n",
       "    <tr>\n",
       "      <th>20</th>\n",
       "      <td>churn</td>\n",
       "      <td>[False, True, None, No, Yes]</td>\n",
       "      <td>4</td>\n",
       "    </tr>\n",
       "  </tbody>\n",
       "</table>\n",
       "</div>"
      ],
      "text/plain": [
       "              Column                                      Unique_Values  \\\n",
       "0         customerid  [7590-VHVEG, 5575-GNVDE, 3668-QPYBK, 7795-CFOC...   \n",
       "1             gender                                     [Female, Male]   \n",
       "2      seniorcitizen                                             [0, 1]   \n",
       "3            partner                             [True, False, No, Yes]   \n",
       "4         dependents                             [False, True, No, Yes]   \n",
       "5             tenure  [1, 34, 2, 45, 8, 22, 10, 28, 62, 13, 16, 58, ...   \n",
       "6       phoneservice                             [False, True, Yes, No]   \n",
       "7      multiplelines     [None, False, True, No, No phone service, Yes]   \n",
       "8    internetservice                             [DSL, Fiber optic, No]   \n",
       "9     onlinesecurity  [False, True, None, No, Yes, No internet service]   \n",
       "10      onlinebackup  [True, False, None, No, Yes, No internet service]   \n",
       "11  deviceprotection  [False, True, None, No, Yes, No internet service]   \n",
       "12       techsupport  [False, True, None, Yes, No, No internet service]   \n",
       "13       streamingtv  [False, True, None, No, Yes, No internet service]   \n",
       "14   streamingmovies  [False, True, None, No, Yes, No internet service]   \n",
       "15          contract               [Month-to-month, One year, Two year]   \n",
       "16  paperlessbilling                             [True, False, Yes, No]   \n",
       "17     paymentmethod  [Electronic check, Mailed check, Bank transfer...   \n",
       "18    monthlycharges  [29.850000381469727, 56.95000076293945, 53.849...   \n",
       "19      totalcharges  [29.850000381469727, 1889.5, 108.1500015258789...   \n",
       "20             churn                       [False, True, None, No, Yes]   \n",
       "\n",
       "    Num_Unique_Values  \n",
       "0                5043  \n",
       "1                   2  \n",
       "2                   2  \n",
       "3                   4  \n",
       "4                   4  \n",
       "5                  73  \n",
       "6                   4  \n",
       "7                   5  \n",
       "8                   3  \n",
       "9                   5  \n",
       "10                  5  \n",
       "11                  5  \n",
       "12                  5  \n",
       "13                  5  \n",
       "14                  5  \n",
       "15                  3  \n",
       "16                  4  \n",
       "17                  4  \n",
       "18               2069  \n",
       "19               4884  \n",
       "20                  4  "
      ]
     },
     "execution_count": 22,
     "metadata": {},
     "output_type": "execute_result"
    }
   ],
   "source": [
    "#Checking  for unique values in all the columns\n",
    "cols= [ 'customerid', 'gender', 'seniorcitizen', 'partner', 'dependents',\n",
    "       'tenure', 'phoneservice', 'multiplelines', 'internetservice',\n",
    "       'onlinesecurity', 'onlinebackup', 'deviceprotection', 'techsupport',\n",
    "       'streamingtv', 'streamingmovies', 'contract', 'paperlessbilling',\n",
    "       'paymentmethod', 'monthlycharges', 'totalcharges', 'churn']\n",
    "\n",
    "\n",
    "results = []\n",
    "\n",
    "for i in cols:\n",
    "    \n",
    "    unique_values = train_df[i].unique()\n",
    "    num_unique_values = train_df[i].nunique()\n",
    "    \n",
    "    \n",
    "    results.append([i, unique_values, num_unique_values])\n",
    "\n",
    "\n",
    "results_df = pd.DataFrame(results, columns=['Column', 'Unique_Values', 'Num_Unique_Values'])\n",
    "\n",
    "\n",
    "results_df"
   ]
  },
  {
   "cell_type": "code",
   "execution_count": 23,
   "metadata": {},
   "outputs": [],
   "source": [
    "# Function replace None with Pandas NaN\n",
    "def replace_none(value):\n",
    "    like_nan = {'none', ''}\n",
    "    if pd.isnull(value) or (isinstance(value, str) and (value.lower().strip() in like_nan)):\n",
    "        value = pd.NA\n",
    "    \n",
    "    return value\n",
    "\n",
    "# Apply the function to all columns\n",
    "train_df = train_df.applymap(replace_none) # element-wise"
   ]
  },
  {
   "cell_type": "markdown",
   "metadata": {},
   "source": [
    "To ensure consistent and uniform data entry, we have to standardize certain columns by replacing all occurrences of False with No and all occurrences of True with Yes. This process helps maintain clarity and consistency in the data, making it easier to interpret and analyze."
   ]
  },
  {
   "cell_type": "code",
   "execution_count": 24,
   "metadata": {},
   "outputs": [
    {
     "data": {
      "text/html": [
       "<div>\n",
       "<style scoped>\n",
       "    .dataframe tbody tr th:only-of-type {\n",
       "        vertical-align: middle;\n",
       "    }\n",
       "\n",
       "    .dataframe tbody tr th {\n",
       "        vertical-align: top;\n",
       "    }\n",
       "\n",
       "    .dataframe thead th {\n",
       "        text-align: right;\n",
       "    }\n",
       "</style>\n",
       "<table border=\"1\" class=\"dataframe\">\n",
       "  <thead>\n",
       "    <tr style=\"text-align: right;\">\n",
       "      <th></th>\n",
       "      <th>customerid</th>\n",
       "      <th>gender</th>\n",
       "      <th>seniorcitizen</th>\n",
       "      <th>partner</th>\n",
       "      <th>dependents</th>\n",
       "      <th>tenure</th>\n",
       "      <th>phoneservice</th>\n",
       "      <th>multiplelines</th>\n",
       "      <th>internetservice</th>\n",
       "      <th>onlinesecurity</th>\n",
       "      <th>...</th>\n",
       "      <th>deviceprotection</th>\n",
       "      <th>techsupport</th>\n",
       "      <th>streamingtv</th>\n",
       "      <th>streamingmovies</th>\n",
       "      <th>contract</th>\n",
       "      <th>paperlessbilling</th>\n",
       "      <th>paymentmethod</th>\n",
       "      <th>monthlycharges</th>\n",
       "      <th>totalcharges</th>\n",
       "      <th>churn</th>\n",
       "    </tr>\n",
       "  </thead>\n",
       "  <tbody>\n",
       "    <tr>\n",
       "      <th>0</th>\n",
       "      <td>7590-VHVEG</td>\n",
       "      <td>Female</td>\n",
       "      <td>0</td>\n",
       "      <td>Yes</td>\n",
       "      <td>No</td>\n",
       "      <td>1</td>\n",
       "      <td>No</td>\n",
       "      <td>&lt;NA&gt;</td>\n",
       "      <td>DSL</td>\n",
       "      <td>No</td>\n",
       "      <td>...</td>\n",
       "      <td>No</td>\n",
       "      <td>No</td>\n",
       "      <td>No</td>\n",
       "      <td>No</td>\n",
       "      <td>Month-to-month</td>\n",
       "      <td>Yes</td>\n",
       "      <td>Electronic check</td>\n",
       "      <td>29.850000</td>\n",
       "      <td>29.85</td>\n",
       "      <td>No</td>\n",
       "    </tr>\n",
       "    <tr>\n",
       "      <th>1</th>\n",
       "      <td>5575-GNVDE</td>\n",
       "      <td>Male</td>\n",
       "      <td>0</td>\n",
       "      <td>No</td>\n",
       "      <td>No</td>\n",
       "      <td>34</td>\n",
       "      <td>Yes</td>\n",
       "      <td>No</td>\n",
       "      <td>DSL</td>\n",
       "      <td>Yes</td>\n",
       "      <td>...</td>\n",
       "      <td>Yes</td>\n",
       "      <td>No</td>\n",
       "      <td>No</td>\n",
       "      <td>No</td>\n",
       "      <td>One year</td>\n",
       "      <td>No</td>\n",
       "      <td>Mailed check</td>\n",
       "      <td>56.950001</td>\n",
       "      <td>1889.5</td>\n",
       "      <td>No</td>\n",
       "    </tr>\n",
       "    <tr>\n",
       "      <th>2</th>\n",
       "      <td>3668-QPYBK</td>\n",
       "      <td>Male</td>\n",
       "      <td>0</td>\n",
       "      <td>No</td>\n",
       "      <td>No</td>\n",
       "      <td>2</td>\n",
       "      <td>Yes</td>\n",
       "      <td>No</td>\n",
       "      <td>DSL</td>\n",
       "      <td>Yes</td>\n",
       "      <td>...</td>\n",
       "      <td>No</td>\n",
       "      <td>No</td>\n",
       "      <td>No</td>\n",
       "      <td>No</td>\n",
       "      <td>Month-to-month</td>\n",
       "      <td>Yes</td>\n",
       "      <td>Mailed check</td>\n",
       "      <td>53.849998</td>\n",
       "      <td>108.150002</td>\n",
       "      <td>Yes</td>\n",
       "    </tr>\n",
       "  </tbody>\n",
       "</table>\n",
       "<p>3 rows × 21 columns</p>\n",
       "</div>"
      ],
      "text/plain": [
       "   customerid  gender  seniorcitizen partner dependents  tenure phoneservice  \\\n",
       "0  7590-VHVEG  Female              0     Yes         No       1           No   \n",
       "1  5575-GNVDE    Male              0      No         No      34          Yes   \n",
       "2  3668-QPYBK    Male              0      No         No       2          Yes   \n",
       "\n",
       "  multiplelines internetservice onlinesecurity  ... deviceprotection  \\\n",
       "0          <NA>             DSL             No  ...               No   \n",
       "1            No             DSL            Yes  ...              Yes   \n",
       "2            No             DSL            Yes  ...               No   \n",
       "\n",
       "  techsupport streamingtv streamingmovies        contract paperlessbilling  \\\n",
       "0          No          No              No  Month-to-month              Yes   \n",
       "1          No          No              No        One year               No   \n",
       "2          No          No              No  Month-to-month              Yes   \n",
       "\n",
       "      paymentmethod monthlycharges  totalcharges churn  \n",
       "0  Electronic check      29.850000         29.85    No  \n",
       "1      Mailed check      56.950001        1889.5    No  \n",
       "2      Mailed check      53.849998    108.150002   Yes  \n",
       "\n",
       "[3 rows x 21 columns]"
      ]
     },
     "execution_count": 24,
     "metadata": {},
     "output_type": "execute_result"
    }
   ],
   "source": [
    "# Define the mapping for standardization\n",
    "standardize_mapping = {\n",
    "    'No phone service': 'No',\n",
    "    'No internet service': 'No',\n",
    "    True: 'Yes',\n",
    "    False: 'No',\n",
    "}\n",
    "   \n",
    "# Columns to perform standardization\n",
    "cols_to_standardize = ['onlinesecurity', 'onlinebackup', 'deviceprotection', 'techsupport',\n",
    "                       'streamingtv', 'streamingmovies', 'paperlessbilling', 'churn',\n",
    "                       'phoneservice', 'multiplelines', 'partner', 'dependents']\n",
    "\n",
    "# Loop through columns for standardization\n",
    "for col in cols_to_standardize:\n",
    "    if train_df[col].dtype == 'object':\n",
    "        train_df[col] = train_df[col].replace(standardize_mapping)\n",
    "\n",
    "# Show the updated DataFrame\n",
    "train_df.head(3)"
   ]
  },
  {
   "cell_type": "markdown",
   "metadata": {},
   "source": [
    "Handling Missing Values: To address missing values in specific columns, check for null values and filled them by randomly selecting a value from each column with missing data."
   ]
  },
  {
   "cell_type": "code",
   "execution_count": 25,
   "metadata": {},
   "outputs": [
    {
     "data": {
      "text/plain": [
       "customerid            0\n",
       "gender                0\n",
       "seniorcitizen         0\n",
       "partner               0\n",
       "dependents            0\n",
       "tenure                0\n",
       "phoneservice          0\n",
       "multiplelines       269\n",
       "internetservice       0\n",
       "onlinesecurity      651\n",
       "onlinebackup        651\n",
       "deviceprotection    651\n",
       "techsupport         651\n",
       "streamingtv         651\n",
       "streamingmovies     651\n",
       "contract              0\n",
       "paperlessbilling      0\n",
       "paymentmethod         0\n",
       "monthlycharges        0\n",
       "totalcharges          8\n",
       "churn                 1\n",
       "dtype: int64"
      ]
     },
     "execution_count": 25,
     "metadata": {},
     "output_type": "execute_result"
    }
   ],
   "source": [
    "train_df.isnull().sum()"
   ]
  },
  {
   "cell_type": "markdown",
   "metadata": {},
   "source": [
    "Filling the missing values in 'multiplelines', 'onlinesecurity', 'onlinebackup', 'deviceprotection', 'techsupport', 'streamingtv', 'streamingmovies' with a 'NO' value "
   ]
  },
  {
   "cell_type": "code",
   "execution_count": 26,
   "metadata": {},
   "outputs": [],
   "source": [
    "# Filling all missing values with 'no'\n",
    "cols_to_use = ['multiplelines', 'onlinesecurity', 'onlinebackup', 'deviceprotection', 'techsupport', 'streamingtv', 'streamingmovies']\n",
    "for values in cols_to_use:\n",
    "    if train_df[values].isna().any() == True:\n",
    "        train_df[values] = train_df[values].fillna('No')\n",
    "        "
   ]
  },
  {
   "cell_type": "markdown",
   "metadata": {},
   "source": [
    "Filling the missing values in the totalcharges column with their corresponding values in the monthlycharge column"
   ]
  },
  {
   "cell_type": "code",
   "execution_count": 27,
   "metadata": {},
   "outputs": [],
   "source": [
    "#Creating a mask variable for the missing values in the column for totalcharges\n",
    "mask = train_df['totalcharges'].isna()\n",
    "\n",
    "# Filling the missing values of totalcharge with the values of the monthlycharge\n",
    "train_df['totalcharges'].fillna(train_df.loc[mask,'monthlycharges'], inplace = True)"
   ]
  },
  {
   "cell_type": "markdown",
   "metadata": {},
   "source": [
    "Changing the datatype of the Total Charges column from string to float"
   ]
  },
  {
   "cell_type": "code",
   "execution_count": 28,
   "metadata": {},
   "outputs": [],
   "source": [
    "train_df['totalcharges'] = train_df['totalcharges'].astype(float)"
   ]
  },
  {
   "cell_type": "markdown",
   "metadata": {},
   "source": [
    "Filling the missing value in the churn column with the mode"
   ]
  },
  {
   "cell_type": "code",
   "execution_count": 29,
   "metadata": {},
   "outputs": [],
   "source": [
    "# Filling the missing value in the churn column with mode\n",
    "mode_churn = train_df['churn'].mode()[0]\n",
    "train_df['churn'] = train_df['churn'].fillna(mode_churn)"
   ]
  },
  {
   "cell_type": "markdown",
   "metadata": {},
   "source": [
    "Dropping the customerid column from our Data Frame as we will not need it for analysis"
   ]
  },
  {
   "cell_type": "code",
   "execution_count": 30,
   "metadata": {},
   "outputs": [],
   "source": [
    "train_df.drop('customerid', axis=1,inplace =True)"
   ]
  },
  {
   "cell_type": "markdown",
   "metadata": {},
   "source": [
    "Checking the dataset again"
   ]
  },
  {
   "cell_type": "code",
   "execution_count": 31,
   "metadata": {},
   "outputs": [
    {
     "name": "stdout",
     "output_type": "stream",
     "text": [
      "<class 'pandas.core.frame.DataFrame'>\n",
      "RangeIndex: 5043 entries, 0 to 5042\n",
      "Data columns (total 20 columns):\n",
      " #   Column            Non-Null Count  Dtype  \n",
      "---  ------            --------------  -----  \n",
      " 0   gender            5043 non-null   object \n",
      " 1   seniorcitizen     5043 non-null   int64  \n",
      " 2   partner           5043 non-null   object \n",
      " 3   dependents        5043 non-null   object \n",
      " 4   tenure            5043 non-null   int64  \n",
      " 5   phoneservice      5043 non-null   object \n",
      " 6   multiplelines     5043 non-null   object \n",
      " 7   internetservice   5043 non-null   object \n",
      " 8   onlinesecurity    5043 non-null   object \n",
      " 9   onlinebackup      5043 non-null   object \n",
      " 10  deviceprotection  5043 non-null   object \n",
      " 11  techsupport       5043 non-null   object \n",
      " 12  streamingtv       5043 non-null   object \n",
      " 13  streamingmovies   5043 non-null   object \n",
      " 14  contract          5043 non-null   object \n",
      " 15  paperlessbilling  5043 non-null   object \n",
      " 16  paymentmethod     5043 non-null   object \n",
      " 17  monthlycharges    5043 non-null   float64\n",
      " 18  totalcharges      5043 non-null   float64\n",
      " 19  churn             5043 non-null   object \n",
      "dtypes: float64(2), int64(2), object(16)\n",
      "memory usage: 788.1+ KB\n"
     ]
    }
   ],
   "source": [
    "train_df.info()"
   ]
  },
  {
   "cell_type": "markdown",
   "metadata": {},
   "source": [
    "We now have a dataset with no missing values"
   ]
  },
  {
   "cell_type": "code",
   "execution_count": 32,
   "metadata": {},
   "outputs": [
    {
     "data": {
      "text/plain": [
       "gender              0\n",
       "seniorcitizen       0\n",
       "partner             0\n",
       "dependents          0\n",
       "tenure              0\n",
       "phoneservice        0\n",
       "multiplelines       0\n",
       "internetservice     0\n",
       "onlinesecurity      0\n",
       "onlinebackup        0\n",
       "deviceprotection    0\n",
       "techsupport         0\n",
       "streamingtv         0\n",
       "streamingmovies     0\n",
       "contract            0\n",
       "paperlessbilling    0\n",
       "paymentmethod       0\n",
       "monthlycharges      0\n",
       "totalcharges        0\n",
       "churn               0\n",
       "dtype: int64"
      ]
     },
     "execution_count": 32,
     "metadata": {},
     "output_type": "execute_result"
    }
   ],
   "source": [
    "train_df.isna().sum()"
   ]
  },
  {
   "cell_type": "markdown",
   "metadata": {},
   "source": [
    "##### Saving the cleaned dataset to CSV"
   ]
  },
  {
   "cell_type": "code",
   "execution_count": 33,
   "metadata": {},
   "outputs": [],
   "source": [
    "# train_df.to_csv('DataSets\\Final_Dataset\\Final_Datasets.csv', index=False)"
   ]
  },
  {
   "cell_type": "markdown",
   "metadata": {},
   "source": [
    "#### Explanatory Data Analysis "
   ]
  },
  {
   "cell_type": "markdown",
   "metadata": {},
   "source": [
    "\n",
    "##### Univariate Analysis"
   ]
  },
  {
   "cell_type": "code",
   "execution_count": 34,
   "metadata": {},
   "outputs": [
    {
     "data": {
      "image/png": "[encoded data removed]",
      "text/plain": [
       "<Figure size 800x600 with 1 Axes>"
      ]
     },
     "metadata": {},
     "output_type": "display_data"
    },
    {
     "name": "stdout",
     "output_type": "stream",
     "text": [
      "Summary statistics for Tenure:\n",
      "count    5043.000000\n",
      "mean       32.576641\n",
      "std        24.529807\n",
      "min         0.000000\n",
      "25%         9.000000\n",
      "50%        29.000000\n",
      "75%        56.000000\n",
      "max        72.000000\n",
      "Name: tenure, dtype: float64\n"
     ]
    }
   ],
   "source": [
    "# Tenure\n",
    "plt.figure(figsize=(8, 6))\n",
    "sns.histplot(train_df['tenure'], bins=20, kde=True)\n",
    "plt.title('Distribution of tenure')\n",
    "plt.xlabel('Tenure (Months)')\n",
    "plt.ylabel('Frequency')\n",
    "plt.show()\n",
    "\n",
    "print(\"Summary statistics for Tenure:\")\n",
    "print(train_df['tenure'].describe())"
   ]
  },
  {
   "cell_type": "markdown",
   "metadata": {},
   "source": [
    "#### **Key Insights**"
   ]
  },
  {
   "cell_type": "markdown",
   "metadata": {},
   "source": [
    "- Mean: The average tenure is approximately 32.58 months. This means that on average, individuals or customers stay for about 32.58 months.\n",
    "\n",
    "- Standard Deviation (std): The standard deviation is approximately 24.53 months. This indicates a wide spread around the mean, suggesting a significant variation in the tenure lengths of individuals or customers.\n",
    "\n",
    "- Minimum (min): The shortest tenure observed is 0 months. This could represent new customers or those who left immediately after joining.\n",
    "\n",
    "- 25%: 25% of the individuals or customers have a tenure of 9 months or less.\n",
    "\n",
    "- Median (50%): The median tenure is 29 months. This means that half of the individuals or customers have a tenure less than 29 months, and the other half have a tenure more than 29 months.\n",
    "\n",
    "- 75%: 75% of the individuals or customers have a tenure of 56 months or less.\n",
    "\n",
    "- Maximum (max): The longest tenure observed is 72 months. This represents the most loyal customers or those who have been with the company the longest."
   ]
  },
  {
   "cell_type": "code",
   "execution_count": 35,
   "metadata": {},
   "outputs": [
    {
     "data": {
      "image/png": "[encoded data removed]",
      "text/plain": [
       "<Figure size 800x600 with 1 Axes>"
      ]
     },
     "metadata": {},
     "output_type": "display_data"
    },
    {
     "name": "stdout",
     "output_type": "stream",
     "text": [
      "\n",
      "Summary statistics for Monthly Charges:\n",
      "count    5043.000000\n",
      "mean       65.090214\n",
      "std        30.068133\n",
      "min        18.400000\n",
      "25%        35.775000\n",
      "50%        70.550003\n",
      "75%        90.050003\n",
      "max       118.650002\n",
      "Name: monthlycharges, dtype: float64\n"
     ]
    }
   ],
   "source": [
    "# Monthly Charges\n",
    "plt.figure(figsize=(8, 6))\n",
    "sns.histplot(train_df['monthlycharges'], bins=20, kde=True)\n",
    "plt.title('Distribution of Monthly Charges')\n",
    "plt.xlabel('Monthly Charges')\n",
    "plt.ylabel('Frequency')\n",
    "plt.show()\n",
    "\n",
    "print(\"\\nSummary statistics for Monthly Charges:\")\n",
    "print(train_df['monthlycharges'].describe())\n"
   ]
  },
  {
   "cell_type": "markdown",
   "metadata": {},
   "source": [
    "#### **Key Insights**"
   ]
  },
  {
   "cell_type": "markdown",
   "metadata": {},
   "source": [
    "The summary statistics reveal that the mean monthly charge is around $65, with a standard deviation of $30. This suggests a relatively wide variation in monthly billing amounts across our customer base.\"\n",
    "\n",
    "25% of customers have a monthly charge of $35.78 or less, while 75% have a monthly charge of $90.05 or less. The maximum monthly charge observed in our dataset is $118.65."
   ]
  },
  {
   "cell_type": "code",
   "execution_count": 36,
   "metadata": {},
   "outputs": [
    {
     "data": {
      "image/png": "[encoded data removed]",
      "text/plain": [
       "<Figure size 800x600 with 1 Axes>"
      ]
     },
     "metadata": {},
     "output_type": "display_data"
    },
    {
     "name": "stdout",
     "output_type": "stream",
     "text": [
      "\n",
      "Churn distribution:\n",
      "churn\n",
      "No     3707\n",
      "Yes    1336\n",
      "Name: count, dtype: int64\n"
     ]
    }
   ],
   "source": [
    "# Plot pie chart\n",
    "churn_counts = train_df['churn'].value_counts()\n",
    "plt.figure(figsize=(8, 6))\n",
    "plt.pie(churn_counts, labels=churn_counts.index, autopct='%1.1f%%', startangle=90, colors=['skyblue', 'coral'])\n",
    "plt.title('Churn Distribution')\n",
    "plt.axis('equal') \n",
    "plt.show()\n",
    "\n",
    "print(\"\\nChurn distribution:\")\n",
    "print(train_df['churn'].value_counts())"
   ]
  },
  {
   "cell_type": "markdown",
   "metadata": {},
   "source": [
    "#### **Key Insights**"
   ]
  },
  {
   "cell_type": "markdown",
   "metadata": {},
   "source": [
    "From the chart, we can see that 73.5% of customers have stayed, which is a good sign. It means that the majority of our customers are satisfied with the services and choose to continue using them.\n",
    "\n",
    "However, there is also a significant portion, 26.5%, that did churn. This is a considerable number and it’s important to understand why these customers decided to leave."
   ]
  },
  {
   "cell_type": "markdown",
   "metadata": {},
   "source": [
    "##### Bivariate Analysis"
   ]
  },
  {
   "cell_type": "code",
   "execution_count": 37,
   "metadata": {},
   "outputs": [
    {
     "data": {
      "image/png": "[encoded data removed]",
      "text/plain": [
       "<Figure size 800x600 with 1 Axes>"
      ]
     },
     "metadata": {},
     "output_type": "display_data"
    }
   ],
   "source": [
    "# # Scatter plot of Tenure vs. MonthlyCharges\n",
    "# plt.figure(figsize=(8, 6))\n",
    "# sns.scatterplot(data=train_df, x='tenure', y='monthlycharges', hue='churn')\n",
    "# plt.title('Tenure vs. Monthly Charges by Churn')\n",
    "# plt.xlabel('Tenure (Months)')\n",
    "# plt.ylabel('Monthly Charges')\n",
    "# plt.legend(title='churn')\n",
    "# plt.show()\n",
    "\n",
    "# Box plot of MonthlyCharges across Churn categories\n",
    "plt.figure(figsize=(8, 6))\n",
    "sns.boxplot(data=train_df, x='churn', y='monthlycharges')\n",
    "plt.title('Monthly Charges by Churn')\n",
    "plt.xlabel('Churn')\n",
    "plt.ylabel('Monthly Charges')\n",
    "plt.show()"
   ]
  },
  {
   "cell_type": "markdown",
   "metadata": {},
   "source": [
    "#### **Key Insights**"
   ]
  },
  {
   "cell_type": "markdown",
   "metadata": {},
   "source": [
    "- Median Monthly Charges: The median monthly charge for customers who did not churn is lower than the median monthly charge for customers who churned. This suggests that customers with higher monthly charges are more likely to churn.\n",
    "\n",
    "- Interquartile Range (IQR): The interquartile range (IQR), represented by the length of the box, is wider for customers who churned compared to those who did not churn. This indicates a greater variability in monthly charges among the churned customers, potentially due to a wider range of service plans or usage patterns."
   ]
  },
  {
   "cell_type": "code",
   "execution_count": 38,
   "metadata": {},
   "outputs": [
    {
     "data": {
      "image/png": "[encoded data removed]",
      "text/plain": [
       "<Figure size 800x600 with 1 Axes>"
      ]
     },
     "metadata": {},
     "output_type": "display_data"
    },
    {
     "name": "stdout",
     "output_type": "stream",
     "text": [
      "Churn Rate by Gender:\n",
      "churn         No       Yes\n",
      "gender                    \n",
      "Female  0.733897  0.266103\n",
      "Male    0.736225  0.263775\n"
     ]
    }
   ],
   "source": [
    "# Visualizing the relationship between gender and churn\n",
    "plt.figure(figsize=(8, 6))\n",
    "sns.countplot(data=train_df, x='gender', hue='churn')\n",
    "plt.title('Churn Distribution by Gender')\n",
    "plt.xlabel('Gender')\n",
    "plt.ylabel('Count')\n",
    "plt.show()\n",
    "\n",
    "# Calculating churn rate by gender\n",
    "churn_rate_gender = train_df.groupby('gender')['churn'].value_counts(normalize=True).unstack()\n",
    "print(\"Churn Rate by Gender:\")\n",
    "print(churn_rate_gender)"
   ]
  },
  {
   "cell_type": "markdown",
   "metadata": {},
   "source": [
    "#### **Key Insights**"
   ]
  },
  {
   "cell_type": "markdown",
   "metadata": {},
   "source": [
    "The churn rate by gender, we can see that the churn rate for female customers is slightly higher at 26.6% compared to 26.4% for male customers. \n",
    "\n",
    "However, the difference is relatively small, suggesting that gender alone may not be a strong predictor of customer churn."
   ]
  },
  {
   "cell_type": "markdown",
   "metadata": {},
   "source": [
    "##### Multivariate Analysis"
   ]
  },
  {
   "cell_type": "code",
   "execution_count": 39,
   "metadata": {},
   "outputs": [
    {
     "name": "stdout",
     "output_type": "stream",
     "text": [
      "\n",
      "Correlation between Tenure and Monthly Charges:\n",
      "                  tenure  monthlycharges\n",
      "tenure          1.000000        0.240645\n",
      "monthlycharges  0.240645        1.000000\n",
      "\n",
      "ANOVA results for Monthly Charges across Churn categories:\n",
      "churn\n",
      "No     61.442690\n",
      "Yes    75.211003\n",
      "Name: monthlycharges, dtype: float64\n"
     ]
    }
   ],
   "source": [
    "# Correlation between Tenure and MonthlyCharges\n",
    "correlation = train_df[['tenure', 'monthlycharges']].corr()\n",
    "print(\"\\nCorrelation between Tenure and Monthly Charges:\")\n",
    "print(correlation)\n",
    "\n",
    "# ANOVA for MonthlyCharges across Churn categories\n",
    "anova_result = train_df.groupby('churn')['monthlycharges'].mean()\n",
    "print(\"\\nANOVA results for Monthly Charges across Churn categories:\")\n",
    "print(anova_result)"
   ]
  },
  {
   "cell_type": "markdown",
   "metadata": {},
   "source": [
    "#### **Key Insights**"
   ]
  },
  {
   "cell_type": "markdown",
   "metadata": {},
   "source": [
    "`Correlation between Tenure and Monthly Charges:`\n",
    "\n",
    "The correlation coefficient between tenure and monthly charges is 0.240645, indicating a weak positive correlation. This suggests that there is a slight tendency for customers with longer tenure to have slightly higher monthly charges, but the relationship is not very strong.\n",
    "\n",
    "`ANOVA results for Monthly Charges across Churn categories:`\n",
    "\n",
    "The average monthly charges for customers who churned (Yes) is approximately 75.24, while for customers who did not churn (No), it is approximately 61.43.\n",
    "There is a noticeable difference in average monthly charges between churned and non-churned customers.\n",
    "Customers who churned tend to have higher average monthly charges compared to those who did not churn."
   ]
  },
  {
   "cell_type": "code",
   "execution_count": 40,
   "metadata": {},
   "outputs": [
    {
     "data": {
      "image/png": "[encoded data removed]",
      "text/plain": [
       "<Figure size 1200x600 with 1 Axes>"
      ]
     },
     "metadata": {},
     "output_type": "display_data"
    }
   ],
   "source": [
    "# Box plot of Tenure vs. MonthlyCharges vs churn\n",
    "plt.figure(figsize=(12, 6))\n",
    "sns.boxplot(data=train_df, x='paymentmethod', y='tenure', hue='churn')\n",
    "plt.title('Tenure vs. paymentmethod by Churn')\n",
    "plt.xlabel('Payment Method')\n",
    "plt.ylabel('Tenure (Months)')\n",
    "plt.legend(title='churn')\n",
    "plt.show()"
   ]
  },
  {
   "cell_type": "markdown",
   "metadata": {},
   "source": [
    "#### **Key Insights**"
   ]
  },
  {
   "cell_type": "markdown",
   "metadata": {},
   "source": [
    "- From the graph, we can observe that customers who churned generally have a shorter tenure regardless of the payment method. This could indicate that customers are more likely to churn in the early stages of using the service."
   ]
  },
  {
   "cell_type": "code",
   "execution_count": 41,
   "metadata": {},
   "outputs": [
    {
     "data": {
      "image/png": "[encoded data removed]",
      "text/plain": [
       "<Figure size 600x400 with 2 Axes>"
      ]
     },
     "metadata": {},
     "output_type": "display_data"
    }
   ],
   "source": [
    "# Separate numeric and categorical columns\n",
    "numeric_columns = train_df.select_dtypes(include=['number']).columns\n",
    "categorical_columns = train_df.select_dtypes(include=['object', 'category']).columns\n",
    "\n",
    "# Correlation Matrix and Heatmap for Numeric Variables\n",
    "numeric_df = train_df[numeric_columns]\n",
    "numeric_correlation_matrix = numeric_df.corr()\n",
    "plt.figure(figsize=(6, 4))\n",
    "sns.heatmap(numeric_correlation_matrix, annot=True, cmap='coolwarm', fmt=\".2f\")\n",
    "plt.title('Correlation Matrix Heatmap (Numeric Variables)')\n",
    "plt.show()"
   ]
  },
  {
   "cell_type": "markdown",
   "metadata": {},
   "source": [
    "#### **Key Insights**"
   ]
  },
  {
   "cell_type": "markdown",
   "metadata": {},
   "source": [
    "######\n",
    "- `Tenure and Total Charges:` There is a strong positive correlation of 0.83 between tenure and total charges. This indicates that as tenure increases, total charges also tend to increase. This could be because the longer a customer stays, the more they are likely to use the services and hence, accumulate more charges.\n",
    "\n",
    "- `Monthly Charges and Total Charges:` There is a moderate positive correlation of 0.65 between monthly charges and total charges. This suggests that customers with higher monthly charges tend to have higher total charges. This could be due to the fact that customers with more services or premium services tend to pay more monthly.\n",
    "\n",
    "- `Senior Citizen and other variables:` The correlations between senior citizen and the other three variables (tenure, monthly charges, and total charges) are relatively weak. This suggests that being a senior citizen does not strongly influence these factors."
   ]
  },
  {
   "cell_type": "markdown",
   "metadata": {},
   "source": [
    "### `Answering Business Questions`"
   ]
  },
  {
   "cell_type": "markdown",
   "metadata": {},
   "source": [
    "##### Question 1. What is the average tenure of customers who churned compared to those who stayed?"
   ]
  },
  {
   "cell_type": "code",
   "execution_count": 42,
   "metadata": {},
   "outputs": [
    {
     "name": "stdout",
     "output_type": "stream",
     "text": [
      "Average tenure of churned customers: 18.24176646706587\n",
      "Average tenure of stayed customers: 37.74291880226598\n"
     ]
    }
   ],
   "source": [
    "# Separate customers who churned from those who stayed\n",
    "churned_customers = train_df[train_df['churn'] == 'Yes']\n",
    "stayed_customers = train_df[train_df['churn'] == 'No']\n",
    "\n",
    "# Calculate the average tenure for each group\n",
    "avg_tenure_churned = churned_customers['tenure'].mean()\n",
    "avg_tenure_stayed = stayed_customers['tenure'].mean()\n",
    "\n",
    "# Compare the average tenure of the two groups\n",
    "print(\"Average tenure of churned customers:\", avg_tenure_churned)\n",
    "print(\"Average tenure of stayed customers:\", avg_tenure_stayed)"
   ]
  },
  {
   "cell_type": "code",
   "execution_count": 43,
   "metadata": {},
   "outputs": [
    {
     "data": {
      "image/png": "[encoded data removed]",
      "text/plain": [
       "<Figure size 800x600 with 1 Axes>"
      ]
     },
     "metadata": {},
     "output_type": "display_data"
    }
   ],
   "source": [
    "# Visualizing the comparison\n",
    "plt.figure(figsize=(8, 6))\n",
    "sns.barplot(x=['Churned', 'Stayed'], y=[avg_tenure_churned, avg_tenure_stayed])\n",
    "plt.title('Average Tenure of Churned vs Stayed Customers')\n",
    "plt.xlabel('Customer Status')\n",
    "plt.ylabel('Average Tenure')\n",
    "\n",
    "# Adding data labels\n",
    "for index, value in enumerate([avg_tenure_churned, avg_tenure_stayed]):\n",
    "    plt.text(index, value, str(value), ha='center', va='bottom')\n",
    "plt.show()"
   ]
  },
  {
   "cell_type": "markdown",
   "metadata": {},
   "source": [
    "##### Question 2. Do customers with partners or dependents have a lower churn rate?"
   ]
  },
  {
   "cell_type": "code",
   "execution_count": 44,
   "metadata": {},
   "outputs": [],
   "source": [
    "# Calculate churn rate for customers with partners\n",
    "partner_churn_rate = train_df[train_df['partner'] == 'Yes']['churn'].value_counts(normalize=True)['Yes']\n",
    "\n",
    "# Calculate churn rate for customers without partners\n",
    "no_partner_churn_rate = train_df[train_df['partner'] == 'No']['churn'].value_counts(normalize=True)['Yes']\n",
    "\n",
    "# Calculate churn rate for customers with dependents\n",
    "dependent_churn_rate = train_df[train_df['dependents'] == 'Yes']['churn'].value_counts(normalize=True)['Yes']\n",
    "\n",
    "# Calculate churn rate for customers without dependents\n",
    "no_dependent_churn_rate = train_df[train_df['dependents'] == 'No']['churn'].value_counts(normalize=True)['Yes']"
   ]
  },
  {
   "cell_type": "code",
   "execution_count": 45,
   "metadata": {},
   "outputs": [
    {
     "data": {
      "image/png": "[encoded data removed]",
      "text/plain": [
       "<Figure size 800x600 with 1 Axes>"
      ]
     },
     "metadata": {},
     "output_type": "display_data"
    }
   ],
   "source": [
    "# Visualize the comparison\n",
    "plt.figure(figsize=(8, 6))\n",
    "sns.barplot(x=['With Partner', 'Without Partner', 'With Dependents', 'Without Dependents'], \n",
    "            y=[partner_churn_rate, no_partner_churn_rate, dependent_churn_rate, no_dependent_churn_rate])\n",
    "plt.title('Churn Rate Based on Partners and Dependents')\n",
    "plt.xlabel('Customer Segment')\n",
    "plt.ylabel('Churn Rate')\n",
    "plt.ylim(0, 1)  \n",
    "# Set y-axis limits from 0 to 1\n",
    "\n",
    "# Adding data labels\n",
    "for index, value in enumerate([partner_churn_rate, no_partner_churn_rate, dependent_churn_rate, no_dependent_churn_rate]):\n",
    "    plt.text(index, value, f'{value:.2f}', ha='center', va='bottom')\n",
    "plt.show()"
   ]
  },
  {
   "cell_type": "markdown",
   "metadata": {},
   "source": [
    "##### Question 3: How does the presence of multiple lines affect customer churn?\n",
    "\n",
    "To analyze this question, we can:\n",
    "\n",
    "- Visualize the distribution of churn among customers with and without multiple lines.\n",
    "- Calculate the churn rate for customers with and without multiple lines.\n",
    "- Conduct a statistical test (such as a chi-square test) to determine if there is a significant association between the presence of multiple lines and churn."
   ]
  },
  {
   "cell_type": "code",
   "execution_count": 46,
   "metadata": {},
   "outputs": [
    {
     "data": {
      "image/png": "[encoded data removed]",
      "text/plain": [
       "<Figure size 800x600 with 1 Axes>"
      ]
     },
     "metadata": {},
     "output_type": "display_data"
    },
    {
     "name": "stdout",
     "output_type": "stream",
     "text": [
      "Churn Rate by Presence of Multiple Lines:\n",
      "multiplelines\n",
      "No     0.249571\n",
      "Yes    0.285915\n",
      "Name: churn_numeric, dtype: float64\n",
      "\n",
      "Chi-square Test Results for Multiple Lines and Churn:\n",
      "Chi-square value: 8.160054933336287\n",
      "p-value: 0.004282307420627073\n"
     ]
    }
   ],
   "source": [
    "# Visualizing the relationship between multiple lines and churn\n",
    "plt.figure(figsize=(8, 6))\n",
    "sns.countplot(data=train_df, x='multiplelines', hue='churn')\n",
    "plt.title('Churn Distribution by Multiple Lines')\n",
    "plt.xlabel('Multiple Lines')\n",
    "plt.ylabel('Count')\n",
    "plt.show()\n",
    "\n",
    "# Calculating churn rate by presence of multiple lines\n",
    "# Convert 'churn' column to numeric using label encoding\n",
    "train_df['churn_numeric'] = train_df['churn'].map({'No': 0, 'Yes': 1})\n",
    "churn_rate_multiple_lines = train_df.groupby('multiplelines')['churn_numeric'].mean()\n",
    "print(\"Churn Rate by Presence of Multiple Lines:\")\n",
    "print(churn_rate_multiple_lines)\n",
    "\n",
    "# Chi-square test for association between multiple lines and churn\n",
    "chi2, p_val, _, _ = chi2_contingency(pd.crosstab(train_df['multiplelines'], train_df['churn']))\n",
    "print(\"\\nChi-square Test Results for Multiple Lines and Churn:\")\n",
    "print(\"Chi-square value:\", chi2)\n",
    "print(\"p-value:\", p_val)"
   ]
  },
  {
   "cell_type": "markdown",
   "metadata": {},
   "source": [
    "#### **Key Insights**"
   ]
  },
  {
   "cell_type": "markdown",
   "metadata": {},
   "source": [
    "- Customers with multiple lines tend to have a slightly higher churn rate compared to those without multiple lines.\n",
    "\n",
    "- The chi-square test results suggest that the presence of multiple lines is significantly associated with churn.\n",
    "\n",
    "This indicates that the presence of multiple lines may influence customer churn behavior, and it could be an important factor to consider in churn prediction and retention strategies.\n",
    "Overall, these insights suggest that the presence of multiple lines could be a relevant factor in understanding and predicting customer churn."
   ]
  },
  {
   "cell_type": "markdown",
   "metadata": {},
   "source": [
    "##### Question 4: Is there a correlation between the contract term (Contract) and customer churn?\n",
    "\n",
    "For this question, we can:\n",
    "\n",
    "- Visualize the distribution of churn across different contract terms.\n",
    "- Calculate the churn rate for each contract term category.\n",
    "- Analyze the relationship between contract term and churn using a chi-square test or other appropriate statistical test.\n",
    "- Additionally, we can examine the average tenure for customers with different contract terms to understand the potential impact on churn."
   ]
  },
  {
   "cell_type": "code",
   "execution_count": 47,
   "metadata": {},
   "outputs": [
    {
     "data": {
      "image/png": "[encoded data removed]",
      "text/plain": [
       "<Figure size 1000x600 with 1 Axes>"
      ]
     },
     "metadata": {},
     "output_type": "display_data"
    },
    {
     "name": "stdout",
     "output_type": "stream",
     "text": [
      "\n",
      "Churn Rate by Contract Term:\n",
      "churn                 No       Yes\n",
      "contract                          \n",
      "Month-to-month  0.568513  0.431487\n",
      "One year        0.884360  0.115640\n",
      "Two year        0.975884  0.024116\n",
      "\n",
      "Chi-square Test Results for Contract Term and Churn:\n",
      "Chi-square value: 882.0901975577578\n",
      "p-value: 2.86119415951209e-192\n"
     ]
    }
   ],
   "source": [
    "# Plotting the relationship between contract term and churn\n",
    "plt.figure(figsize=(10, 6))\n",
    "ax = sns.countplot(data=train_df, x='contract', hue='churn')\n",
    "\n",
    "# Adding data labels to each bar\n",
    "for p in ax.patches:\n",
    "    ax.annotate(f'{p.get_height()}', (p.get_x() + p.get_width() / 2., p.get_height()), ha='center', va='bottom', xytext=(0, 5), textcoords='offset points')\n",
    "\n",
    "plt.title('Churn Distribution by Contract Term')\n",
    "plt.xlabel('Contract Term')\n",
    "plt.ylabel('Count')\n",
    "plt.legend(title='Churn', loc='upper right')\n",
    "plt.show()\n",
    "\n",
    "# Calculating churn rate by contract term\n",
    "churn_rate_contract = train_df.groupby('contract')['churn'].value_counts(normalize=True).unstack()\n",
    "print(\"\\nChurn Rate by Contract Term:\")\n",
    "print(churn_rate_contract)\n",
    "\n",
    "# Chi-square test for association between contract term and churn\n",
    "chi2, p_val, _, _ = chi2_contingency(pd.crosstab(train_df['contract'], train_df['churn']))\n",
    "print(\"\\nChi-square Test Results for Contract Term and Churn:\")\n",
    "print(\"Chi-square value:\", chi2)\n",
    "print(\"p-value:\", p_val)"
   ]
  },
  {
   "cell_type": "markdown",
   "metadata": {},
   "source": [
    "#### **Key Insights**"
   ]
  },
  {
   "cell_type": "markdown",
   "metadata": {},
   "source": [
    "- Customers with longer contract terms (one year and two years) have significantly lower churn rates compared to those with month-to-month contracts.\n",
    "\n",
    "- The chi-square test results confirm that there is a strong association between contract term and churn.\n",
    "This suggests that the contract term is a critical factor influencing customer churn behavior, with longer-term contracts leading to lower churn rates.\n",
    "\n",
    "Overall, these insights indicate that contract term is a significant predictor of customer churn, and it should be a key consideration in churn prediction models and retention strategies. Offering longer-term contracts may help reduce churn and improve customer retention rates."
   ]
  },
  {
   "cell_type": "markdown",
   "metadata": {},
   "source": [
    "##### Question 5: What are the common payment methods (Payment Method) among customers who churned?"
   ]
  },
  {
   "cell_type": "code",
   "execution_count": 50,
   "metadata": {},
   "outputs": [
    {
     "data": {
      "image/png": "[encoded data removed]",
      "text/plain": [
       "<Figure size 1000x600 with 1 Axes>"
      ]
     },
     "metadata": {},
     "output_type": "display_data"
    }
   ],
   "source": [
    "churned_customers = train_df[train_df['churn'] == 'Yes']\n",
    "common_payment_methods = churned_customers['paymentmethod'].value_counts()\n",
    "\n",
    "plt.figure(figsize=(10,6))\n",
    "plt.bar(common_payment_methods.index, common_payment_methods.values)\n",
    "plt.title('Common Payment Methods Among Customers Who Churned')\n",
    "plt.xlabel('Payment Method')\n",
    "plt.ylabel('Number of Customers')\n",
    "plt.show()"
   ]
  },
  {
   "cell_type": "markdown",
   "metadata": {},
   "source": [
    "#### **Key Insights**"
   ]
  },
  {
   "cell_type": "markdown",
   "metadata": {},
   "source": [
    "- From the plot shown above, the common payment method for clients who churned is using Electronic check."
   ]
  },
  {
   "cell_type": "markdown",
   "metadata": {},
   "source": [
    "##### Question 6: How does the availability of tech-related services (e.g., OnlineSecurity, TechSupport) impact churn rates?"
   ]
  },
  {
   "cell_type": "code",
   "execution_count": 51,
   "metadata": {},
   "outputs": [
    {
     "data": {
      "image/png": "[encoded data removed]",
      "text/plain": [
       "<Figure size 1000x500 with 1 Axes>"
      ]
     },
     "metadata": {},
     "output_type": "display_data"
    }
   ],
   "source": [
    "# Group data by subscription to tech services and churn\n",
    "tech_service_groups = train_df.groupby(['onlinesecurity', 'techsupport', 'churn'])['gender'].count().unstack(fill_value=0)\n",
    "\n",
    "# Calculate churn rate for each group\n",
    "churn_rate = tech_service_groups.div(tech_service_groups.sum(axis=1), axis=0) * 100\n",
    "\n",
    "# Create a stacked bar chart\n",
    "fig, ax = plt.subplots(figsize=(10, 5))  # Create a figure and axis for better control\n",
    "churn_rate.plot(kind='bar', stacked=True, color=['#FF6665', '#63A2FF'], ax=ax)\n",
    "plt.xlabel('Tech Service Subscriptions')\n",
    "plt.ylabel('Churn Rate (%)')\n",
    "plt.title('Churn Rate by Tech Service Availability')\n",
    "plt.xticks(rotation=0)  # Rotate x-axis labels for better readability\n",
    "\n",
    "# Add percentage labels to bars\n",
    "for container in ax.containers:\n",
    "    rects = container.get_children()\n",
    "    for rect in rects:\n",
    "        height = rect.get_height()\n",
    "        ax.text(rect.get_x() + rect.get_width() / 2, height + 1, f\"{height:.1f}%\", ha='center', va='bottom')\n",
    "\n",
    "plt.legend(title='Churn')\n",
    "plt.tight_layout()  # Adjust spacing to accommodate labels\n",
    "plt.show()"
   ]
  },
  {
   "cell_type": "markdown",
   "metadata": {},
   "source": [
    "#### **Key Insights**"
   ]
  },
  {
   "cell_type": "markdown",
   "metadata": {},
   "source": [
    "- Customers with no tech support are most likely to churn, while those with both security and support have the lowest churn rate."
   ]
  },
  {
   "cell_type": "markdown",
   "metadata": {},
   "source": [
    "##### Question 7: What percentage of customers who churned had streaming services (StreamingTV, StreamingMovies)?"
   ]
  },
  {
   "cell_type": "code",
   "execution_count": 52,
   "metadata": {},
   "outputs": [
    {
     "data": {
      "image/png": "[encoded data removed]",
      "text/plain": [
       "<Figure size 800x600 with 1 Axes>"
      ]
     },
     "metadata": {},
     "output_type": "display_data"
    }
   ],
   "source": [
    "\n",
    "# Filter the DataFrame to include only churned customers\n",
    "churned_customers = train_df[train_df['churn'] == 'Yes']\n",
    " \n",
    "# Calculate the number of churned customers with different streaming services\n",
    "streaming_tv_churned_count = len(churned_customers[(churned_customers['streamingtv'] == 'Yes') & (churned_customers['streamingmovies'] == 'No')])\n",
    "streaming_movies_churned_count = len(churned_customers[(churned_customers['streamingtv'] == 'No') & (churned_customers['streamingmovies'] == 'Yes')])\n",
    "both_streaming_churned_count = len(churned_customers[(churned_customers['streamingtv'] == 'Yes') & (churned_customers['streamingmovies'] == 'Yes')])\n",
    " \n",
    "# Calculate the total number of churned customers\n",
    "total_churned_customers = len(churned_customers)\n",
    " \n",
    "# Calculate the percentage of churned customers for each category\n",
    "percentage_streaming_tv_churned = (streaming_tv_churned_count / total_churned_customers) * 100\n",
    "percentage_streaming_movies_churned = (streaming_movies_churned_count / total_churned_customers) * 100\n",
    "percentage_both_streaming_churned = (both_streaming_churned_count / total_churned_customers) * 100\n",
    " \n",
    "# Plotting the grouped bar plot\n",
    "categories = ['Only StreamingTV', 'Only StreamingMovies', 'Both StreamingTV and StreamingMovies']\n",
    "percentages = [percentage_streaming_tv_churned, percentage_streaming_movies_churned, percentage_both_streaming_churned]\n",
    " \n",
    "plt.figure(figsize=(8, 6))\n",
    "bars = plt.bar(categories, percentages, color=['skyblue', 'orange', 'green'])\n",
    " \n",
    "# Add data labels on top of the bars\n",
    "for bar in bars:\n",
    "    height = bar.get_height()\n",
    "    plt.text(bar.get_x() + bar.get_width() / 2, height, f'{height:.2f}%', ha='center', va='bottom')\n",
    " \n",
    "plt.xlabel('Streaming Services')\n",
    "plt.ylabel('Percentage of Churned Customers')\n",
    "plt.title('Percentage of Churned Customers with Different Streaming Services')\n",
    "plt.xticks(rotation=45)\n",
    "plt.tight_layout()\n",
    "plt.show()"
   ]
  },
  {
   "cell_type": "markdown",
   "metadata": {},
   "source": [
    "##### Question 8: Is there a difference in churn rates between senior citizens and non-senior citizen"
   ]
  },
  {
   "cell_type": "code",
   "execution_count": 53,
   "metadata": {},
   "outputs": [
    {
     "data": {
      "image/png": "[encoded data removed]",
      "text/plain": [
       "<Figure size 800x600 with 1 Axes>"
      ]
     },
     "metadata": {},
     "output_type": "display_data"
    }
   ],
   "source": [
    "# Calculate churn rates for senior and non-senior citizens\n",
    "senior_churn_rate = train_df[train_df['seniorcitizen'] == 1]['churn'].value_counts(normalize=True)\n",
    "non_senior_churn_rate = train_df[train_df['seniorcitizen'] == 0]['churn'].value_counts(normalize=True)\n",
    "\n",
    "# Plotting the grouped bar plot\n",
    "plt.figure(figsize=(8, 6))\n",
    "bar_width = 0.35\n",
    "index = range(len(senior_churn_rate))\n",
    "\n",
    "bars1 = plt.bar(index, senior_churn_rate, bar_width, color='red', label='Senior Citizen', alpha=0.7)\n",
    "bars2 = plt.bar([i + bar_width for i in index], non_senior_churn_rate, bar_width, color='blue', label='Non-Senior Citizen', alpha=0.7)\n",
    "\n",
    "# Adding data labels to each bar\n",
    "def add_labels(bars):\n",
    "    for bar in bars:\n",
    "        yval = bar.get_height()\n",
    "        plt.text(bar.get_x() + bar.get_width()/2, yval + 0.01, f'{yval:.2f}', ha='center', va='bottom')\n",
    "\n",
    "add_labels(bars1)\n",
    "add_labels(bars2)\n",
    "\n",
    "plt.xlabel('Churn')\n",
    "plt.ylabel('Churn Rate')\n",
    "plt.title('Churn Rate by Senior Citizen Status')\n",
    "plt.xticks([i + bar_width / 2 for i in index], senior_churn_rate.index)\n",
    "plt.legend(title='Legend')\n",
    "plt.tight_layout()\n",
    "plt.show()"
   ]
  },
  {
   "cell_type": "markdown",
   "metadata": {},
   "source": [
    "#### `Testing Hypothesis`"
   ]
  },
  {
   "cell_type": "markdown",
   "metadata": {},
   "source": [
    "##### Hypothesis 1\n",
    "`Null Hypothesis(Ho):` Customers with longer tenure (number of months stayed with the company) are more likely to churn compared to new customers.\n",
    "\n",
    "`Alternative Hypothesis(Ha):` Customers with longer tenure (number of months stayed with the company) are less likely to churn compared to new customers.\n"
   ]
  },
  {
   "cell_type": "code",
   "execution_count": 48,
   "metadata": {},
   "outputs": [
    {
     "name": "stdout",
     "output_type": "stream",
     "text": [
      "Mann-Whitney U statistic: 4014951.5\n",
      "P-value: 2.3706196320266987e-99\n",
      "Reject Null Hypothesis: There is a significant difference in churn rates between customers with shorter and longer tenure.\n"
     ]
    }
   ],
   "source": [
    "# Convert 'churn' column to numeric using label encoding\n",
    "train_df['churn_numeric'] = train_df['churn'].map({'No': 0, 'Yes': 1})\n",
    "\n",
    "# Calculate the median tenure\n",
    "median_tenure = train_df['tenure'].median()\n",
    "\n",
    "# Divide the dataset into two groups based on median tenure\n",
    "short_tenure = train_df[train_df['tenure'] <= median_tenure]['churn_numeric']\n",
    "long_tenure = train_df[train_df['tenure'] > median_tenure]['churn_numeric']\n",
    "\n",
    "# Perform Mann-Whitney U test\n",
    "statistic, p_value = mannwhitneyu(short_tenure, long_tenure)\n",
    "\n",
    "# Print the test statistic (U statistic) and p-value\n",
    "print(\"Mann-Whitney U statistic:\", statistic)\n",
    "print(\"P-value:\", p_value)\n",
    "\n",
    "# Interpret results\n",
    "if p_value < 0.05:\n",
    "    print(\"Reject Null Hypothesis: There is a significant difference in churn rates between customers with shorter and longer tenure.\")\n",
    "else:\n",
    "    print(\"Fail to Reject Null Hypothesis: There is no significant difference in churn rates between customers with shorter and longer tenure.\")"
   ]
  },
  {
   "cell_type": "markdown",
   "metadata": {},
   "source": [
    "##### Hypothesis 2\n",
    "\n",
    "`Null Hypothesis (Ho)`: Customers with higher monthly charges (MonthlyCharges) are more likely to churn due to cost considerations.\n",
    "\n",
    "`Alternative Hypothesis (Ha)`: Customers with higher monthly charges (MonthlyCharges) are less likely to churn due to cost considerations."
   ]
  },
  {
   "cell_type": "code",
   "execution_count": 49,
   "metadata": {},
   "outputs": [
    {
     "name": "stdout",
     "output_type": "stream",
     "text": [
      "Mann-Whitney U statistic: 3743974.5\n",
      "P-value: 2.219391973354535e-46\n",
      "Reject Null Hypothesis: There is a significant difference in churn rates between customers with higher and lower monthly charge.\n"
     ]
    }
   ],
   "source": [
    "# Encode 'churn' column into numeric values\n",
    "train_df['churn_numeric'] = train_df['churn'].replace({'Yes': 1, 'No': 0})\n",
    "\n",
    "# Calculate the median value for monthlycharge\n",
    "median_monthlycharge = train_df['monthlycharges'].median()\n",
    "\n",
    "# Divide the data into two categories\n",
    "high_monthlycharge = train_df[train_df['monthlycharges'] >= median_monthlycharge]['churn_numeric']\n",
    "low_monthlycharge = train_df[train_df['monthlycharges'] < median_monthlycharge]['churn_numeric']\n",
    "\n",
    "# Perform Mann-Whitney U test\n",
    "statistic, p_value = mannwhitneyu(high_monthlycharge, low_monthlycharge)\n",
    "\n",
    "# Print the test statistic (U statistic) and p-value\n",
    "print(\"Mann-Whitney U statistic:\", statistic)\n",
    "print(\"P-value:\", p_value)\n",
    "\n",
    "# State the significance level\n",
    "alpha = 0.05\n",
    "\n",
    "# Compare p-value to the significance level\n",
    "if p_value < alpha:\n",
    "    print(\"Reject Null Hypothesis: There is a significant difference in churn rates between customers with higher and lower monthly charge.\")\n",
    "else:\n",
    "    print(\"Fail to Reject Null Hypothesis: There is no significant difference in churn rates between customers with higher and lower monthly charge.\")"
   ]
  },
  {
   "cell_type": "markdown",
   "metadata": {},
   "source": [
    "### `Data Preparation`"
   ]
  },
  {
   "cell_type": "code",
   "execution_count": 55,
   "metadata": {},
   "outputs": [],
   "source": [
    "train_df = pd.read_csv('DataSets/Train_Dataset/train.csv')"
   ]
  },
  {
   "cell_type": "code",
   "execution_count": 56,
   "metadata": {},
   "outputs": [
    {
     "data": {
      "text/html": [
       "<div>\n",
       "<style scoped>\n",
       "    .dataframe tbody tr th:only-of-type {\n",
       "        vertical-align: middle;\n",
       "    }\n",
       "\n",
       "    .dataframe tbody tr th {\n",
       "        vertical-align: top;\n",
       "    }\n",
       "\n",
       "    .dataframe thead th {\n",
       "        text-align: right;\n",
       "    }\n",
       "</style>\n",
       "<table border=\"1\" class=\"dataframe\">\n",
       "  <thead>\n",
       "    <tr style=\"text-align: right;\">\n",
       "      <th></th>\n",
       "      <th>Unnamed: 0</th>\n",
       "      <th>customerid</th>\n",
       "      <th>gender</th>\n",
       "      <th>seniorcitizen</th>\n",
       "      <th>partner</th>\n",
       "      <th>dependents</th>\n",
       "      <th>tenure</th>\n",
       "      <th>phoneservice</th>\n",
       "      <th>multiplelines</th>\n",
       "      <th>internetservice</th>\n",
       "      <th>...</th>\n",
       "      <th>deviceprotection</th>\n",
       "      <th>techsupport</th>\n",
       "      <th>streamingtv</th>\n",
       "      <th>streamingmovies</th>\n",
       "      <th>contract</th>\n",
       "      <th>paperlessbilling</th>\n",
       "      <th>paymentmethod</th>\n",
       "      <th>monthlycharges</th>\n",
       "      <th>totalcharges</th>\n",
       "      <th>churn</th>\n",
       "    </tr>\n",
       "  </thead>\n",
       "  <tbody>\n",
       "    <tr>\n",
       "      <th>0</th>\n",
       "      <td>0</td>\n",
       "      <td>7590-VHVEG</td>\n",
       "      <td>Female</td>\n",
       "      <td>0</td>\n",
       "      <td>Yes</td>\n",
       "      <td>No</td>\n",
       "      <td>1</td>\n",
       "      <td>No</td>\n",
       "      <td>NaN</td>\n",
       "      <td>DSL</td>\n",
       "      <td>...</td>\n",
       "      <td>No</td>\n",
       "      <td>No</td>\n",
       "      <td>No</td>\n",
       "      <td>No</td>\n",
       "      <td>Month-to-month</td>\n",
       "      <td>Yes</td>\n",
       "      <td>Electronic check</td>\n",
       "      <td>29.850000</td>\n",
       "      <td>29.85</td>\n",
       "      <td>No</td>\n",
       "    </tr>\n",
       "    <tr>\n",
       "      <th>1</th>\n",
       "      <td>1</td>\n",
       "      <td>5575-GNVDE</td>\n",
       "      <td>Male</td>\n",
       "      <td>0</td>\n",
       "      <td>No</td>\n",
       "      <td>No</td>\n",
       "      <td>34</td>\n",
       "      <td>Yes</td>\n",
       "      <td>No</td>\n",
       "      <td>DSL</td>\n",
       "      <td>...</td>\n",
       "      <td>Yes</td>\n",
       "      <td>No</td>\n",
       "      <td>No</td>\n",
       "      <td>No</td>\n",
       "      <td>One year</td>\n",
       "      <td>No</td>\n",
       "      <td>Mailed check</td>\n",
       "      <td>56.950001</td>\n",
       "      <td>1889.50</td>\n",
       "      <td>No</td>\n",
       "    </tr>\n",
       "  </tbody>\n",
       "</table>\n",
       "<p>2 rows × 22 columns</p>\n",
       "</div>"
      ],
      "text/plain": [
       "   Unnamed: 0  customerid  gender  seniorcitizen partner dependents  tenure  \\\n",
       "0           0  7590-VHVEG  Female              0     Yes         No       1   \n",
       "1           1  5575-GNVDE    Male              0      No         No      34   \n",
       "\n",
       "  phoneservice multiplelines internetservice  ... deviceprotection  \\\n",
       "0           No           NaN             DSL  ...               No   \n",
       "1          Yes            No             DSL  ...              Yes   \n",
       "\n",
       "  techsupport streamingtv streamingmovies        contract paperlessbilling  \\\n",
       "0          No          No              No  Month-to-month              Yes   \n",
       "1          No          No              No        One year               No   \n",
       "\n",
       "      paymentmethod monthlycharges totalcharges  churn  \n",
       "0  Electronic check      29.850000        29.85     No  \n",
       "1      Mailed check      56.950001      1889.50     No  \n",
       "\n",
       "[2 rows x 22 columns]"
      ]
     },
     "execution_count": 56,
     "metadata": {},
     "output_type": "execute_result"
    }
   ],
   "source": [
    "train_df.head(2)"
   ]
  },
  {
   "cell_type": "code",
   "execution_count": 57,
   "metadata": {},
   "outputs": [],
   "source": [
    "train_df.drop(columns=['customerid','Unnamed: 0'], axis = 1, inplace = True)"
   ]
  },
  {
   "cell_type": "code",
   "execution_count": 58,
   "metadata": {},
   "outputs": [
    {
     "data": {
      "text/html": [
       "<div>\n",
       "<style scoped>\n",
       "    .dataframe tbody tr th:only-of-type {\n",
       "        vertical-align: middle;\n",
       "    }\n",
       "\n",
       "    .dataframe tbody tr th {\n",
       "        vertical-align: top;\n",
       "    }\n",
       "\n",
       "    .dataframe thead th {\n",
       "        text-align: right;\n",
       "    }\n",
       "</style>\n",
       "<table border=\"1\" class=\"dataframe\">\n",
       "  <thead>\n",
       "    <tr style=\"text-align: right;\">\n",
       "      <th></th>\n",
       "      <th>gender</th>\n",
       "      <th>seniorcitizen</th>\n",
       "      <th>partner</th>\n",
       "      <th>dependents</th>\n",
       "      <th>tenure</th>\n",
       "      <th>phoneservice</th>\n",
       "      <th>multiplelines</th>\n",
       "      <th>internetservice</th>\n",
       "      <th>onlinesecurity</th>\n",
       "      <th>onlinebackup</th>\n",
       "      <th>deviceprotection</th>\n",
       "      <th>techsupport</th>\n",
       "      <th>streamingtv</th>\n",
       "      <th>streamingmovies</th>\n",
       "      <th>contract</th>\n",
       "      <th>paperlessbilling</th>\n",
       "      <th>paymentmethod</th>\n",
       "      <th>monthlycharges</th>\n",
       "      <th>totalcharges</th>\n",
       "      <th>churn</th>\n",
       "    </tr>\n",
       "  </thead>\n",
       "  <tbody>\n",
       "    <tr>\n",
       "      <th>0</th>\n",
       "      <td>Female</td>\n",
       "      <td>0</td>\n",
       "      <td>Yes</td>\n",
       "      <td>No</td>\n",
       "      <td>1</td>\n",
       "      <td>No</td>\n",
       "      <td>NaN</td>\n",
       "      <td>DSL</td>\n",
       "      <td>No</td>\n",
       "      <td>Yes</td>\n",
       "      <td>No</td>\n",
       "      <td>No</td>\n",
       "      <td>No</td>\n",
       "      <td>No</td>\n",
       "      <td>Month-to-month</td>\n",
       "      <td>Yes</td>\n",
       "      <td>Electronic check</td>\n",
       "      <td>29.850000</td>\n",
       "      <td>29.85</td>\n",
       "      <td>No</td>\n",
       "    </tr>\n",
       "    <tr>\n",
       "      <th>1</th>\n",
       "      <td>Male</td>\n",
       "      <td>0</td>\n",
       "      <td>No</td>\n",
       "      <td>No</td>\n",
       "      <td>34</td>\n",
       "      <td>Yes</td>\n",
       "      <td>No</td>\n",
       "      <td>DSL</td>\n",
       "      <td>Yes</td>\n",
       "      <td>No</td>\n",
       "      <td>Yes</td>\n",
       "      <td>No</td>\n",
       "      <td>No</td>\n",
       "      <td>No</td>\n",
       "      <td>One year</td>\n",
       "      <td>No</td>\n",
       "      <td>Mailed check</td>\n",
       "      <td>56.950001</td>\n",
       "      <td>1889.50</td>\n",
       "      <td>No</td>\n",
       "    </tr>\n",
       "  </tbody>\n",
       "</table>\n",
       "</div>"
      ],
      "text/plain": [
       "   gender  seniorcitizen partner dependents  tenure phoneservice  \\\n",
       "0  Female              0     Yes         No       1           No   \n",
       "1    Male              0      No         No      34          Yes   \n",
       "\n",
       "  multiplelines internetservice onlinesecurity onlinebackup deviceprotection  \\\n",
       "0           NaN             DSL             No          Yes               No   \n",
       "1            No             DSL            Yes           No              Yes   \n",
       "\n",
       "  techsupport streamingtv streamingmovies        contract paperlessbilling  \\\n",
       "0          No          No              No  Month-to-month              Yes   \n",
       "1          No          No              No        One year               No   \n",
       "\n",
       "      paymentmethod  monthlycharges  totalcharges churn  \n",
       "0  Electronic check       29.850000         29.85    No  \n",
       "1      Mailed check       56.950001       1889.50    No  "
      ]
     },
     "execution_count": 58,
     "metadata": {},
     "output_type": "execute_result"
    }
   ],
   "source": [
    "train_df.head(2)"
   ]
  },
  {
   "cell_type": "code",
   "execution_count": 59,
   "metadata": {},
   "outputs": [
    {
     "data": {
      "text/plain": [
       "gender                0\n",
       "seniorcitizen         0\n",
       "partner               0\n",
       "dependents            0\n",
       "tenure                0\n",
       "phoneservice          0\n",
       "multiplelines       269\n",
       "internetservice       0\n",
       "onlinesecurity      651\n",
       "onlinebackup        651\n",
       "deviceprotection    651\n",
       "techsupport         651\n",
       "streamingtv         651\n",
       "streamingmovies     651\n",
       "contract              0\n",
       "paperlessbilling      0\n",
       "paymentmethod         0\n",
       "monthlycharges        0\n",
       "totalcharges          8\n",
       "churn                 1\n",
       "dtype: int64"
      ]
     },
     "execution_count": 59,
     "metadata": {},
     "output_type": "execute_result"
    }
   ],
   "source": [
    "train_df.isna().sum()"
   ]
  }
 ],
 "metadata": {
  "kernelspec": {
   "display_name": "venv",
   "language": "python",
   "name": "python3"
  },
  "language_info": {
   "codemirror_mode": {
    "name": "ipython",
    "version": 3
   },
   "file_extension": ".py",
   "mimetype": "text/x-python",
   "name": "python",
   "nbconvert_exporter": "python",
   "pygments_lexer": "ipython3",
   "version": "3.10.9"
  }
 },
 "nbformat": 4,
 "nbformat_minor": 2
}
